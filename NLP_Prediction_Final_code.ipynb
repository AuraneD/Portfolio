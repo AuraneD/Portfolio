{
  "cells": [
    {
      "cell_type": "markdown",
      "metadata": {
        "id": "3NEmJ6S5VHs0"
      },
      "source": [
        "## Preparation"
      ]
    },
    {
      "cell_type": "code",
      "execution_count": null,
      "metadata": {
        "colab": {
          "base_uri": "https://localhost:8080/"
        },
        "id": "HORdbSO2sAGS",
        "outputId": "8a5fc0f7-0f68-4e3d-b8df-d7b18ec41462"
      },
      "outputs": [
        {
          "name": "stdout",
          "output_type": "stream",
          "text": [
            "Mounted at /content/gdrive/\n"
          ]
        }
      ],
      "source": [
        "#Access Google Collab\n",
        "\n",
        "from google.colab import drive\n",
        "\n",
        "drive.mount('/content/gdrive/')"
      ]
    },
    {
      "cell_type": "code",
      "execution_count": null,
      "metadata": {
        "colab": {
          "base_uri": "https://localhost:8080/"
        },
        "id": "xgH2IXyiVasF",
        "outputId": "3dc87d13-fee1-461d-a8b3-37f33889fe41"
      },
      "outputs": [
        {
          "name": "stdout",
          "output_type": "stream",
          "text": [
            "Requirement already satisfied: gensim in /usr/local/lib/python3.7/dist-packages (3.6.0)\n",
            "Requirement already satisfied: scipy>=0.18.1 in /usr/local/lib/python3.7/dist-packages (from gensim) (1.4.1)\n",
            "Requirement already satisfied: smart-open>=1.2.1 in /usr/local/lib/python3.7/dist-packages (from gensim) (5.0.0)\n",
            "Requirement already satisfied: numpy>=1.11.3 in /usr/local/lib/python3.7/dist-packages (from gensim) (1.19.5)\n",
            "Requirement already satisfied: six>=1.5.0 in /usr/local/lib/python3.7/dist-packages (from gensim) (1.15.0)\n",
            "Requirement already satisfied: nltk in /usr/local/lib/python3.7/dist-packages (3.2.5)\n",
            "Requirement already satisfied: six in /usr/local/lib/python3.7/dist-packages (from nltk) (1.15.0)\n",
            "Requirement already satisfied: pandas in /usr/local/lib/python3.7/dist-packages (1.1.5)\n",
            "Requirement already satisfied: python-dateutil>=2.7.3 in /usr/local/lib/python3.7/dist-packages (from pandas) (2.8.1)\n",
            "Requirement already satisfied: pytz>=2017.2 in /usr/local/lib/python3.7/dist-packages (from pandas) (2018.9)\n",
            "Requirement already satisfied: numpy>=1.15.4 in /usr/local/lib/python3.7/dist-packages (from pandas) (1.19.5)\n",
            "Requirement already satisfied: six>=1.5 in /usr/local/lib/python3.7/dist-packages (from python-dateutil>=2.7.3->pandas) (1.15.0)\n",
            "Requirement already satisfied: sklearn in /usr/local/lib/python3.7/dist-packages (0.0)\n",
            "Requirement already satisfied: scikit-learn in /usr/local/lib/python3.7/dist-packages (from sklearn) (0.22.2.post1)\n",
            "Requirement already satisfied: numpy>=1.11.0 in /usr/local/lib/python3.7/dist-packages (from scikit-learn->sklearn) (1.19.5)\n",
            "Requirement already satisfied: joblib>=0.11 in /usr/local/lib/python3.7/dist-packages (from scikit-learn->sklearn) (1.0.1)\n",
            "Requirement already satisfied: scipy>=0.17.0 in /usr/local/lib/python3.7/dist-packages (from scikit-learn->sklearn) (1.4.1)\n",
            "\u001b[31mERROR: Invalid requirement: 'keras!'\u001b[0m\n",
            "Requirement already satisfied: tensorflow in /usr/local/lib/python3.7/dist-packages (2.5.0)\n",
            "Requirement already satisfied: typing-extensions~=3.7.4 in /usr/local/lib/python3.7/dist-packages (from tensorflow) (3.7.4.3)\n",
            "Requirement already satisfied: numpy~=1.19.2 in /usr/local/lib/python3.7/dist-packages (from tensorflow) (1.19.5)\n",
            "Requirement already satisfied: wheel~=0.35 in /usr/local/lib/python3.7/dist-packages (from tensorflow) (0.36.2)\n",
            "Requirement already satisfied: google-pasta~=0.2 in /usr/local/lib/python3.7/dist-packages (from tensorflow) (0.2.0)\n",
            "Requirement already satisfied: absl-py~=0.10 in /usr/local/lib/python3.7/dist-packages (from tensorflow) (0.12.0)\n",
            "Requirement already satisfied: six~=1.15.0 in /usr/local/lib/python3.7/dist-packages (from tensorflow) (1.15.0)\n",
            "Requirement already satisfied: grpcio~=1.34.0 in /usr/local/lib/python3.7/dist-packages (from tensorflow) (1.34.1)\n",
            "Requirement already satisfied: astunparse~=1.6.3 in /usr/local/lib/python3.7/dist-packages (from tensorflow) (1.6.3)\n",
            "Requirement already satisfied: protobuf>=3.9.2 in /usr/local/lib/python3.7/dist-packages (from tensorflow) (3.12.4)\n",
            "Requirement already satisfied: keras-nightly~=2.5.0.dev in /usr/local/lib/python3.7/dist-packages (from tensorflow) (2.5.0.dev2021032900)\n",
            "Requirement already satisfied: gast==0.4.0 in /usr/local/lib/python3.7/dist-packages (from tensorflow) (0.4.0)\n",
            "Requirement already satisfied: flatbuffers~=1.12.0 in /usr/local/lib/python3.7/dist-packages (from tensorflow) (1.12)\n",
            "Requirement already satisfied: opt-einsum~=3.3.0 in /usr/local/lib/python3.7/dist-packages (from tensorflow) (3.3.0)\n",
            "Requirement already satisfied: wrapt~=1.12.1 in /usr/local/lib/python3.7/dist-packages (from tensorflow) (1.12.1)\n",
            "Requirement already satisfied: tensorflow-estimator<2.6.0,>=2.5.0rc0 in /usr/local/lib/python3.7/dist-packages (from tensorflow) (2.5.0)\n",
            "Requirement already satisfied: h5py~=3.1.0 in /usr/local/lib/python3.7/dist-packages (from tensorflow) (3.1.0)\n",
            "Requirement already satisfied: termcolor~=1.1.0 in /usr/local/lib/python3.7/dist-packages (from tensorflow) (1.1.0)\n",
            "Requirement already satisfied: keras-preprocessing~=1.1.2 in /usr/local/lib/python3.7/dist-packages (from tensorflow) (1.1.2)\n",
            "Requirement already satisfied: tensorboard~=2.5 in /usr/local/lib/python3.7/dist-packages (from tensorflow) (2.5.0)\n",
            "Requirement already satisfied: setuptools in /usr/local/lib/python3.7/dist-packages (from protobuf>=3.9.2->tensorflow) (56.1.0)\n",
            "Requirement already satisfied: cached-property; python_version < \"3.8\" in /usr/local/lib/python3.7/dist-packages (from h5py~=3.1.0->tensorflow) (1.5.2)\n",
            "Requirement already satisfied: requests<3,>=2.21.0 in /usr/local/lib/python3.7/dist-packages (from tensorboard~=2.5->tensorflow) (2.23.0)\n",
            "Requirement already satisfied: markdown>=2.6.8 in /usr/local/lib/python3.7/dist-packages (from tensorboard~=2.5->tensorflow) (3.3.4)\n",
            "Requirement already satisfied: werkzeug>=0.11.15 in /usr/local/lib/python3.7/dist-packages (from tensorboard~=2.5->tensorflow) (1.0.1)\n",
            "Requirement already satisfied: tensorboard-data-server<0.7.0,>=0.6.0 in /usr/local/lib/python3.7/dist-packages (from tensorboard~=2.5->tensorflow) (0.6.1)\n",
            "Requirement already satisfied: google-auth<2,>=1.6.3 in /usr/local/lib/python3.7/dist-packages (from tensorboard~=2.5->tensorflow) (1.30.0)\n",
            "Requirement already satisfied: tensorboard-plugin-wit>=1.6.0 in /usr/local/lib/python3.7/dist-packages (from tensorboard~=2.5->tensorflow) (1.8.0)\n",
            "Requirement already satisfied: google-auth-oauthlib<0.5,>=0.4.1 in /usr/local/lib/python3.7/dist-packages (from tensorboard~=2.5->tensorflow) (0.4.4)\n",
            "Requirement already satisfied: idna<3,>=2.5 in /usr/local/lib/python3.7/dist-packages (from requests<3,>=2.21.0->tensorboard~=2.5->tensorflow) (2.10)\n",
            "Requirement already satisfied: chardet<4,>=3.0.2 in /usr/local/lib/python3.7/dist-packages (from requests<3,>=2.21.0->tensorboard~=2.5->tensorflow) (3.0.4)\n",
            "Requirement already satisfied: certifi>=2017.4.17 in /usr/local/lib/python3.7/dist-packages (from requests<3,>=2.21.0->tensorboard~=2.5->tensorflow) (2020.12.5)\n",
            "Requirement already satisfied: urllib3!=1.25.0,!=1.25.1,<1.26,>=1.21.1 in /usr/local/lib/python3.7/dist-packages (from requests<3,>=2.21.0->tensorboard~=2.5->tensorflow) (1.24.3)\n",
            "Requirement already satisfied: importlib-metadata; python_version < \"3.8\" in /usr/local/lib/python3.7/dist-packages (from markdown>=2.6.8->tensorboard~=2.5->tensorflow) (4.0.1)\n",
            "Requirement already satisfied: cachetools<5.0,>=2.0.0 in /usr/local/lib/python3.7/dist-packages (from google-auth<2,>=1.6.3->tensorboard~=2.5->tensorflow) (4.2.2)\n",
            "Requirement already satisfied: pyasn1-modules>=0.2.1 in /usr/local/lib/python3.7/dist-packages (from google-auth<2,>=1.6.3->tensorboard~=2.5->tensorflow) (0.2.8)\n",
            "Requirement already satisfied: rsa<5,>=3.1.4; python_version >= \"3.6\" in /usr/local/lib/python3.7/dist-packages (from google-auth<2,>=1.6.3->tensorboard~=2.5->tensorflow) (4.7.2)\n",
            "Requirement already satisfied: requests-oauthlib>=0.7.0 in /usr/local/lib/python3.7/dist-packages (from google-auth-oauthlib<0.5,>=0.4.1->tensorboard~=2.5->tensorflow) (1.3.0)\n",
            "Requirement already satisfied: zipp>=0.5 in /usr/local/lib/python3.7/dist-packages (from importlib-metadata; python_version < \"3.8\"->markdown>=2.6.8->tensorboard~=2.5->tensorflow) (3.4.1)\n",
            "Requirement already satisfied: pyasn1<0.5.0,>=0.4.6 in /usr/local/lib/python3.7/dist-packages (from pyasn1-modules>=0.2.1->google-auth<2,>=1.6.3->tensorboard~=2.5->tensorflow) (0.4.8)\n",
            "Requirement already satisfied: oauthlib>=3.0.0 in /usr/local/lib/python3.7/dist-packages (from requests-oauthlib>=0.7.0->google-auth-oauthlib<0.5,>=0.4.1->tensorboard~=2.5->tensorflow) (3.1.0)\n",
            "Requirement already satisfied: pandas_ml in /usr/local/lib/python3.7/dist-packages (0.6.1)\n",
            "Requirement already satisfied: enum34 in /usr/local/lib/python3.7/dist-packages (from pandas_ml) (1.1.10)\n",
            "Requirement already satisfied: pandas>=0.19.0 in /usr/local/lib/python3.7/dist-packages (from pandas_ml) (1.1.5)\n",
            "Requirement already satisfied: python-dateutil>=2.7.3 in /usr/local/lib/python3.7/dist-packages (from pandas>=0.19.0->pandas_ml) (2.8.1)\n",
            "Requirement already satisfied: pytz>=2017.2 in /usr/local/lib/python3.7/dist-packages (from pandas>=0.19.0->pandas_ml) (2018.9)\n",
            "Requirement already satisfied: numpy>=1.15.4 in /usr/local/lib/python3.7/dist-packages (from pandas>=0.19.0->pandas_ml) (1.19.5)\n",
            "Requirement already satisfied: six>=1.5 in /usr/local/lib/python3.7/dist-packages (from python-dateutil>=2.7.3->pandas>=0.19.0->pandas_ml) (1.15.0)\n",
            "Requirement already satisfied: matplotlib in /usr/local/lib/python3.7/dist-packages (3.2.2)\n",
            "Requirement already satisfied: pyparsing!=2.0.4,!=2.1.2,!=2.1.6,>=2.0.1 in /usr/local/lib/python3.7/dist-packages (from matplotlib) (2.4.7)\n",
            "Requirement already satisfied: cycler>=0.10 in /usr/local/lib/python3.7/dist-packages (from matplotlib) (0.10.0)\n",
            "Requirement already satisfied: numpy>=1.11 in /usr/local/lib/python3.7/dist-packages (from matplotlib) (1.19.5)\n",
            "Requirement already satisfied: kiwisolver>=1.0.1 in /usr/local/lib/python3.7/dist-packages (from matplotlib) (1.3.1)\n",
            "Requirement already satisfied: python-dateutil>=2.1 in /usr/local/lib/python3.7/dist-packages (from matplotlib) (2.8.1)\n",
            "Requirement already satisfied: six in /usr/local/lib/python3.7/dist-packages (from cycler>=0.10->matplotlib) (1.15.0)\n"
          ]
        }
      ],
      "source": [
        "!pip install gensim\n",
        "!pip install nltk\n",
        "!pip install pandas\n",
        "!pip install sklearn\n",
        "!pip install keras!\n",
        "!pip install tensorflow\n",
        "!pip install pandas_ml\n",
        "!pip install matplotlib\n"
      ]
    },
    {
      "cell_type": "code",
      "execution_count": null,
      "metadata": {
        "id": "Yo40jeUCVcYT"
      },
      "outputs": [],
      "source": [
        "import warnings\n",
        "warnings.filterwarnings('ignore')"
      ]
    },
    {
      "cell_type": "code",
      "execution_count": null,
      "metadata": {
        "id": "ut_lf9YWsklw"
      },
      "outputs": [],
      "source": [
        "#Import packages\n",
        "import nltk\n",
        "import pandas as pd\n",
        "import numpy as np\n",
        "import matplotlib.pyplot as plt\n",
        "from nltk.stem import SnowballStemmer\n",
        "from sklearn.model_selection import train_test_split"
      ]
    },
    {
      "cell_type": "code",
      "execution_count": null,
      "metadata": {
        "colab": {
          "base_uri": "https://localhost:8080/"
        },
        "id": "9KUr7RYoZ_Sv",
        "outputId": "94b80136-c9bb-4955-fb23-a6cc8a40da98"
      },
      "outputs": [
        {
          "name": "stdout",
          "output_type": "stream",
          "text": [
            "Drive already mounted at /content/drive; to attempt to forcibly remount, call drive.mount(\"/content/drive\", force_remount=True).\n"
          ]
        }
      ],
      "source": [
        "from google.colab import drive\n",
        "drive.mount('/content/drive')"
      ]
    },
    {
      "cell_type": "code",
      "execution_count": null,
      "metadata": {
        "colab": {
          "base_uri": "https://localhost:8080/",
          "height": 443
        },
        "id": "Vz5ocnlOslpc",
        "outputId": "047dc8fc-99d3-46f3-f2ff-e3cba75b7ca9"
      },
      "outputs": [
        {
          "ename": "FileNotFoundError",
          "evalue": "ignored",
          "output_type": "error",
          "traceback": [
            "\u001b[0;31m---------------------------------------------------------------------------\u001b[0m",
            "\u001b[0;31mFileNotFoundError\u001b[0m                         Traceback (most recent call last)",
            "\u001b[0;32m<ipython-input-10-8c2f1c08bd6f>\u001b[0m in \u001b[0;36m<module>\u001b[0;34m()\u001b[0m\n\u001b[1;32m      1\u001b[0m \u001b[0;31m#Load data\u001b[0m\u001b[0;34m\u001b[0m\u001b[0;34m\u001b[0m\u001b[0;34m\u001b[0m\u001b[0m\n\u001b[0;32m----> 2\u001b[0;31m \u001b[0mdata_train\u001b[0m \u001b[0;34m=\u001b[0m \u001b[0mpd\u001b[0m\u001b[0;34m.\u001b[0m\u001b[0mread_csv\u001b[0m\u001b[0;34m(\u001b[0m\u001b[0;34m'/content/gdrive/MyDrive/small_train.csv'\u001b[0m\u001b[0;34m)\u001b[0m\u001b[0;34m\u001b[0m\u001b[0;34m\u001b[0m\u001b[0m\n\u001b[0m\u001b[1;32m      3\u001b[0m \u001b[0mdata_test\u001b[0m \u001b[0;34m=\u001b[0m \u001b[0mpd\u001b[0m\u001b[0;34m.\u001b[0m\u001b[0mread_csv\u001b[0m\u001b[0;34m(\u001b[0m\u001b[0;34m'/content/gdrive/MyDrive/small_test.csv'\u001b[0m\u001b[0;34m)\u001b[0m\u001b[0;34m\u001b[0m\u001b[0;34m\u001b[0m\u001b[0m\n",
            "\u001b[0;32m/usr/local/lib/python3.7/dist-packages/pandas/io/parsers.py\u001b[0m in \u001b[0;36mread_csv\u001b[0;34m(filepath_or_buffer, sep, delimiter, header, names, index_col, usecols, squeeze, prefix, mangle_dupe_cols, dtype, engine, converters, true_values, false_values, skipinitialspace, skiprows, skipfooter, nrows, na_values, keep_default_na, na_filter, verbose, skip_blank_lines, parse_dates, infer_datetime_format, keep_date_col, date_parser, dayfirst, cache_dates, iterator, chunksize, compression, thousands, decimal, lineterminator, quotechar, quoting, doublequote, escapechar, comment, encoding, dialect, error_bad_lines, warn_bad_lines, delim_whitespace, low_memory, memory_map, float_precision)\u001b[0m\n\u001b[1;32m    686\u001b[0m     )\n\u001b[1;32m    687\u001b[0m \u001b[0;34m\u001b[0m\u001b[0m\n\u001b[0;32m--> 688\u001b[0;31m     \u001b[0;32mreturn\u001b[0m \u001b[0m_read\u001b[0m\u001b[0;34m(\u001b[0m\u001b[0mfilepath_or_buffer\u001b[0m\u001b[0;34m,\u001b[0m \u001b[0mkwds\u001b[0m\u001b[0;34m)\u001b[0m\u001b[0;34m\u001b[0m\u001b[0;34m\u001b[0m\u001b[0m\n\u001b[0m\u001b[1;32m    689\u001b[0m \u001b[0;34m\u001b[0m\u001b[0m\n\u001b[1;32m    690\u001b[0m \u001b[0;34m\u001b[0m\u001b[0m\n",
            "\u001b[0;32m/usr/local/lib/python3.7/dist-packages/pandas/io/parsers.py\u001b[0m in \u001b[0;36m_read\u001b[0;34m(filepath_or_buffer, kwds)\u001b[0m\n\u001b[1;32m    452\u001b[0m \u001b[0;34m\u001b[0m\u001b[0m\n\u001b[1;32m    453\u001b[0m     \u001b[0;31m# Create the parser.\u001b[0m\u001b[0;34m\u001b[0m\u001b[0;34m\u001b[0m\u001b[0;34m\u001b[0m\u001b[0m\n\u001b[0;32m--> 454\u001b[0;31m     \u001b[0mparser\u001b[0m \u001b[0;34m=\u001b[0m \u001b[0mTextFileReader\u001b[0m\u001b[0;34m(\u001b[0m\u001b[0mfp_or_buf\u001b[0m\u001b[0;34m,\u001b[0m \u001b[0;34m**\u001b[0m\u001b[0mkwds\u001b[0m\u001b[0;34m)\u001b[0m\u001b[0;34m\u001b[0m\u001b[0;34m\u001b[0m\u001b[0m\n\u001b[0m\u001b[1;32m    455\u001b[0m \u001b[0;34m\u001b[0m\u001b[0m\n\u001b[1;32m    456\u001b[0m     \u001b[0;32mif\u001b[0m \u001b[0mchunksize\u001b[0m \u001b[0;32mor\u001b[0m \u001b[0miterator\u001b[0m\u001b[0;34m:\u001b[0m\u001b[0;34m\u001b[0m\u001b[0;34m\u001b[0m\u001b[0m\n",
            "\u001b[0;32m/usr/local/lib/python3.7/dist-packages/pandas/io/parsers.py\u001b[0m in \u001b[0;36m__init__\u001b[0;34m(self, f, engine, **kwds)\u001b[0m\n\u001b[1;32m    946\u001b[0m             \u001b[0mself\u001b[0m\u001b[0;34m.\u001b[0m\u001b[0moptions\u001b[0m\u001b[0;34m[\u001b[0m\u001b[0;34m\"has_index_names\"\u001b[0m\u001b[0;34m]\u001b[0m \u001b[0;34m=\u001b[0m \u001b[0mkwds\u001b[0m\u001b[0;34m[\u001b[0m\u001b[0;34m\"has_index_names\"\u001b[0m\u001b[0;34m]\u001b[0m\u001b[0;34m\u001b[0m\u001b[0;34m\u001b[0m\u001b[0m\n\u001b[1;32m    947\u001b[0m \u001b[0;34m\u001b[0m\u001b[0m\n\u001b[0;32m--> 948\u001b[0;31m         \u001b[0mself\u001b[0m\u001b[0;34m.\u001b[0m\u001b[0m_make_engine\u001b[0m\u001b[0;34m(\u001b[0m\u001b[0mself\u001b[0m\u001b[0;34m.\u001b[0m\u001b[0mengine\u001b[0m\u001b[0;34m)\u001b[0m\u001b[0;34m\u001b[0m\u001b[0;34m\u001b[0m\u001b[0m\n\u001b[0m\u001b[1;32m    949\u001b[0m \u001b[0;34m\u001b[0m\u001b[0m\n\u001b[1;32m    950\u001b[0m     \u001b[0;32mdef\u001b[0m \u001b[0mclose\u001b[0m\u001b[0;34m(\u001b[0m\u001b[0mself\u001b[0m\u001b[0;34m)\u001b[0m\u001b[0;34m:\u001b[0m\u001b[0;34m\u001b[0m\u001b[0;34m\u001b[0m\u001b[0m\n",
            "\u001b[0;32m/usr/local/lib/python3.7/dist-packages/pandas/io/parsers.py\u001b[0m in \u001b[0;36m_make_engine\u001b[0;34m(self, engine)\u001b[0m\n\u001b[1;32m   1178\u001b[0m     \u001b[0;32mdef\u001b[0m \u001b[0m_make_engine\u001b[0m\u001b[0;34m(\u001b[0m\u001b[0mself\u001b[0m\u001b[0;34m,\u001b[0m \u001b[0mengine\u001b[0m\u001b[0;34m=\u001b[0m\u001b[0;34m\"c\"\u001b[0m\u001b[0;34m)\u001b[0m\u001b[0;34m:\u001b[0m\u001b[0;34m\u001b[0m\u001b[0;34m\u001b[0m\u001b[0m\n\u001b[1;32m   1179\u001b[0m         \u001b[0;32mif\u001b[0m \u001b[0mengine\u001b[0m \u001b[0;34m==\u001b[0m \u001b[0;34m\"c\"\u001b[0m\u001b[0;34m:\u001b[0m\u001b[0;34m\u001b[0m\u001b[0;34m\u001b[0m\u001b[0m\n\u001b[0;32m-> 1180\u001b[0;31m             \u001b[0mself\u001b[0m\u001b[0;34m.\u001b[0m\u001b[0m_engine\u001b[0m \u001b[0;34m=\u001b[0m \u001b[0mCParserWrapper\u001b[0m\u001b[0;34m(\u001b[0m\u001b[0mself\u001b[0m\u001b[0;34m.\u001b[0m\u001b[0mf\u001b[0m\u001b[0;34m,\u001b[0m \u001b[0;34m**\u001b[0m\u001b[0mself\u001b[0m\u001b[0;34m.\u001b[0m\u001b[0moptions\u001b[0m\u001b[0;34m)\u001b[0m\u001b[0;34m\u001b[0m\u001b[0;34m\u001b[0m\u001b[0m\n\u001b[0m\u001b[1;32m   1181\u001b[0m         \u001b[0;32melse\u001b[0m\u001b[0;34m:\u001b[0m\u001b[0;34m\u001b[0m\u001b[0;34m\u001b[0m\u001b[0m\n\u001b[1;32m   1182\u001b[0m             \u001b[0;32mif\u001b[0m \u001b[0mengine\u001b[0m \u001b[0;34m==\u001b[0m \u001b[0;34m\"python\"\u001b[0m\u001b[0;34m:\u001b[0m\u001b[0;34m\u001b[0m\u001b[0;34m\u001b[0m\u001b[0m\n",
            "\u001b[0;32m/usr/local/lib/python3.7/dist-packages/pandas/io/parsers.py\u001b[0m in \u001b[0;36m__init__\u001b[0;34m(self, src, **kwds)\u001b[0m\n\u001b[1;32m   2008\u001b[0m         \u001b[0mkwds\u001b[0m\u001b[0;34m[\u001b[0m\u001b[0;34m\"usecols\"\u001b[0m\u001b[0;34m]\u001b[0m \u001b[0;34m=\u001b[0m \u001b[0mself\u001b[0m\u001b[0;34m.\u001b[0m\u001b[0musecols\u001b[0m\u001b[0;34m\u001b[0m\u001b[0;34m\u001b[0m\u001b[0m\n\u001b[1;32m   2009\u001b[0m \u001b[0;34m\u001b[0m\u001b[0m\n\u001b[0;32m-> 2010\u001b[0;31m         \u001b[0mself\u001b[0m\u001b[0;34m.\u001b[0m\u001b[0m_reader\u001b[0m \u001b[0;34m=\u001b[0m \u001b[0mparsers\u001b[0m\u001b[0;34m.\u001b[0m\u001b[0mTextReader\u001b[0m\u001b[0;34m(\u001b[0m\u001b[0msrc\u001b[0m\u001b[0;34m,\u001b[0m \u001b[0;34m**\u001b[0m\u001b[0mkwds\u001b[0m\u001b[0;34m)\u001b[0m\u001b[0;34m\u001b[0m\u001b[0;34m\u001b[0m\u001b[0m\n\u001b[0m\u001b[1;32m   2011\u001b[0m         \u001b[0mself\u001b[0m\u001b[0;34m.\u001b[0m\u001b[0munnamed_cols\u001b[0m \u001b[0;34m=\u001b[0m \u001b[0mself\u001b[0m\u001b[0;34m.\u001b[0m\u001b[0m_reader\u001b[0m\u001b[0;34m.\u001b[0m\u001b[0munnamed_cols\u001b[0m\u001b[0;34m\u001b[0m\u001b[0;34m\u001b[0m\u001b[0m\n\u001b[1;32m   2012\u001b[0m \u001b[0;34m\u001b[0m\u001b[0m\n",
            "\u001b[0;32mpandas/_libs/parsers.pyx\u001b[0m in \u001b[0;36mpandas._libs.parsers.TextReader.__cinit__\u001b[0;34m()\u001b[0m\n",
            "\u001b[0;32mpandas/_libs/parsers.pyx\u001b[0m in \u001b[0;36mpandas._libs.parsers.TextReader._setup_parser_source\u001b[0;34m()\u001b[0m\n",
            "\u001b[0;31mFileNotFoundError\u001b[0m: [Errno 2] No such file or directory: '/content/gdrive/MyDrive/small_train.csv'"
          ]
        }
      ],
      "source": [
        "#Load data\n",
        "data_train = pd.read_csv('/content/gdrive/MyDrive/small_train.csv')\n",
        "data_test = pd.read_csv('/content/gdrive/MyDrive/small_test.csv')"
      ]
    },
    {
      "cell_type": "code",
      "execution_count": null,
      "metadata": {
        "id": "NKoC1zluk4Fo"
      },
      "outputs": [],
      "source": [
        "#Convert data into str\n",
        "data_train = data_train.astype(str)\n",
        "data_test = data_test.astype(str)"
      ]
    },
    {
      "cell_type": "code",
      "execution_count": null,
      "metadata": {
        "id": "VU4Dn4Myd_UT"
      },
      "outputs": [],
      "source": [
        "#Randlomly select 1% of data to work with\n",
        "data_train = data_train.sample(frac =.01)\n",
        "data_test = data_test.sample(frac =.01)"
      ]
    },
    {
      "cell_type": "code",
      "execution_count": null,
      "metadata": {
        "colab": {
          "base_uri": "https://localhost:8080/",
          "height": 419
        },
        "id": "VrLZA_nZtVVG",
        "outputId": "5586fda3-fc1a-4b7e-d30c-b5b867df1272"
      },
      "outputs": [
        {
          "data": {
            "text/html": [
              "<div>\n",
              "<style scoped>\n",
              "    .dataframe tbody tr th:only-of-type {\n",
              "        vertical-align: middle;\n",
              "    }\n",
              "\n",
              "    .dataframe tbody tr th {\n",
              "        vertical-align: top;\n",
              "    }\n",
              "\n",
              "    .dataframe thead th {\n",
              "        text-align: right;\n",
              "    }\n",
              "</style>\n",
              "<table border=\"1\" class=\"dataframe\">\n",
              "  <thead>\n",
              "    <tr style=\"text-align: right;\">\n",
              "      <th></th>\n",
              "      <th>ID</th>\n",
              "      <th>keywords</th>\n",
              "      <th>age</th>\n",
              "      <th>sex</th>\n",
              "    </tr>\n",
              "  </thead>\n",
              "  <tbody>\n",
              "    <tr>\n",
              "      <th>534766</th>\n",
              "      <td>19426</td>\n",
              "      <td>titulaires:1;face:1;rochelle:1;top:1;francais:...</td>\n",
              "      <td>49</td>\n",
              "      <td>M</td>\n",
              "    </tr>\n",
              "    <tr>\n",
              "      <th>726220</th>\n",
              "      <td>5257</td>\n",
              "      <td>quiz:1;play:2;taptabul:2;game:6</td>\n",
              "      <td>46</td>\n",
              "      <td>M</td>\n",
              "    </tr>\n",
              "    <tr>\n",
              "      <th>547317</th>\n",
              "      <td>8438950</td>\n",
              "      <td>barbara:1;film:3;chateau:1;verre:1;gauguin:1;c...</td>\n",
              "      <td>51</td>\n",
              "      <td>F</td>\n",
              "    </tr>\n",
              "    <tr>\n",
              "      <th>799033</th>\n",
              "      <td>1635985</td>\n",
              "      <td>emploi:1;detail_offre:1</td>\n",
              "      <td>37</td>\n",
              "      <td>F</td>\n",
              "    </tr>\n",
              "    <tr>\n",
              "      <th>497913</th>\n",
              "      <td>71666</td>\n",
              "      <td>article:1;numerique:1;actualites:1;salaires:1;...</td>\n",
              "      <td>44</td>\n",
              "      <td>F</td>\n",
              "    </tr>\n",
              "    <tr>\n",
              "      <th>...</th>\n",
              "      <td>...</td>\n",
              "      <td>...</td>\n",
              "      <td>...</td>\n",
              "      <td>...</td>\n",
              "    </tr>\n",
              "    <tr>\n",
              "      <th>892273</th>\n",
              "      <td>99168</td>\n",
              "      <td>birmanie:1;profiter:1;magimel:1;universite:1;g...</td>\n",
              "      <td>48</td>\n",
              "      <td>M</td>\n",
              "    </tr>\n",
              "    <tr>\n",
              "      <th>240679</th>\n",
              "      <td>113961</td>\n",
              "      <td>pin:2;code:2;amis:2;disparition:2;vue:2;enquet...</td>\n",
              "      <td>37</td>\n",
              "      <td>F</td>\n",
              "    </tr>\n",
              "    <tr>\n",
              "      <th>994733</th>\n",
              "      <td>2875605</td>\n",
              "      <td>popol:1;entreprise:1;chez:1</td>\n",
              "      <td>41</td>\n",
              "      <td>M</td>\n",
              "    </tr>\n",
              "    <tr>\n",
              "      <th>135679</th>\n",
              "      <td>3078056</td>\n",
              "      <td>word:2;forum:1;suivi:2;modifications:2;faq:1;d...</td>\n",
              "      <td>48</td>\n",
              "      <td>F</td>\n",
              "    </tr>\n",
              "    <tr>\n",
              "      <th>862773</th>\n",
              "      <td>138559</td>\n",
              "      <td>episode:1;maya:1;calecon:1;dans:1;france:1;pol...</td>\n",
              "      <td>49</td>\n",
              "      <td>M</td>\n",
              "    </tr>\n",
              "  </tbody>\n",
              "</table>\n",
              "<p>10000 rows × 4 columns</p>\n",
              "</div>"
            ],
            "text/plain": [
              "             ID                                           keywords age sex\n",
              "534766    19426  titulaires:1;face:1;rochelle:1;top:1;francais:...  49   M\n",
              "726220     5257                    quiz:1;play:2;taptabul:2;game:6  46   M\n",
              "547317  8438950  barbara:1;film:3;chateau:1;verre:1;gauguin:1;c...  51   F\n",
              "799033  1635985                            emploi:1;detail_offre:1  37   F\n",
              "497913    71666  article:1;numerique:1;actualites:1;salaires:1;...  44   F\n",
              "...         ...                                                ...  ..  ..\n",
              "892273    99168  birmanie:1;profiter:1;magimel:1;universite:1;g...  48   M\n",
              "240679   113961  pin:2;code:2;amis:2;disparition:2;vue:2;enquet...  37   F\n",
              "994733  2875605                        popol:1;entreprise:1;chez:1  41   M\n",
              "135679  3078056  word:2;forum:1;suivi:2;modifications:2;faq:1;d...  48   F\n",
              "862773   138559  episode:1;maya:1;calecon:1;dans:1;france:1;pol...  49   M\n",
              "\n",
              "[10000 rows x 4 columns]"
            ]
          },
          "execution_count": 8,
          "metadata": {
            "tags": []
          },
          "output_type": "execute_result"
        }
      ],
      "source": [
        "#View data\n",
        "data_train"
      ]
    },
    {
      "cell_type": "code",
      "execution_count": null,
      "metadata": {
        "colab": {
          "base_uri": "https://localhost:8080/",
          "height": 419
        },
        "id": "8urQar6Et1Lk",
        "outputId": "609011cc-409a-4443-9390-4b73c9cea608"
      },
      "outputs": [
        {
          "data": {
            "text/html": [
              "<div>\n",
              "<style scoped>\n",
              "    .dataframe tbody tr th:only-of-type {\n",
              "        vertical-align: middle;\n",
              "    }\n",
              "\n",
              "    .dataframe tbody tr th {\n",
              "        vertical-align: top;\n",
              "    }\n",
              "\n",
              "    .dataframe thead th {\n",
              "        text-align: right;\n",
              "    }\n",
              "</style>\n",
              "<table border=\"1\" class=\"dataframe\">\n",
              "  <thead>\n",
              "    <tr style=\"text-align: right;\">\n",
              "      <th></th>\n",
              "      <th>ID</th>\n",
              "      <th>keywords</th>\n",
              "      <th>age</th>\n",
              "      <th>sex</th>\n",
              "    </tr>\n",
              "  </thead>\n",
              "  <tbody>\n",
              "    <tr>\n",
              "      <th>496475</th>\n",
              "      <td>2903855</td>\n",
              "      <td>charlotte:2;video:2;fille:2;passion:2;cachee:2...</td>\n",
              "      <td>nan</td>\n",
              "      <td>nan</td>\n",
              "    </tr>\n",
              "    <tr>\n",
              "      <th>319156</th>\n",
              "      <td>539344</td>\n",
              "      <td>article:1;indesirables:1;ministre:1;annonce:1;...</td>\n",
              "      <td>nan</td>\n",
              "      <td>nan</td>\n",
              "    </tr>\n",
              "    <tr>\n",
              "      <th>445520</th>\n",
              "      <td>2835244</td>\n",
              "      <td>demande:1;modele:1;faq:1;lettre:1;temps:1;part...</td>\n",
              "      <td>nan</td>\n",
              "      <td>nan</td>\n",
              "    </tr>\n",
              "    <tr>\n",
              "      <th>233417</th>\n",
              "      <td>1597502</td>\n",
              "      <td>ville:9;doit:1;travail:2;bayencourt:9;les:1;re...</td>\n",
              "      <td>nan</td>\n",
              "      <td>nan</td>\n",
              "    </tr>\n",
              "    <tr>\n",
              "      <th>282135</th>\n",
              "      <td>1381180</td>\n",
              "      <td>nan</td>\n",
              "      <td>nan</td>\n",
              "      <td>nan</td>\n",
              "    </tr>\n",
              "    <tr>\n",
              "      <th>...</th>\n",
              "      <td>...</td>\n",
              "      <td>...</td>\n",
              "      <td>...</td>\n",
              "      <td>...</td>\n",
              "    </tr>\n",
              "    <tr>\n",
              "      <th>89389</th>\n",
              "      <td>1212167</td>\n",
              "      <td>detail_offre:5;emploi:5</td>\n",
              "      <td>nan</td>\n",
              "      <td>nan</td>\n",
              "    </tr>\n",
              "    <tr>\n",
              "      <th>373509</th>\n",
              "      <td>1802826</td>\n",
              "      <td>instagram:33;macron:33;francais:1;dans:1;bundc...</td>\n",
              "      <td>nan</td>\n",
              "      <td>nan</td>\n",
              "    </tr>\n",
              "    <tr>\n",
              "      <th>314222</th>\n",
              "      <td>2019205</td>\n",
              "      <td>edit:3</td>\n",
              "      <td>nan</td>\n",
              "      <td>nan</td>\n",
              "    </tr>\n",
              "    <tr>\n",
              "      <th>211702</th>\n",
              "      <td>664824</td>\n",
              "      <td>emploi:3;liste_offres:2;detail_offre:1</td>\n",
              "      <td>nan</td>\n",
              "      <td>nan</td>\n",
              "    </tr>\n",
              "    <tr>\n",
              "      <th>362409</th>\n",
              "      <td>1418623</td>\n",
              "      <td>bubbles:3;bubble:3;shooter:3;jeu:3</td>\n",
              "      <td>nan</td>\n",
              "      <td>nan</td>\n",
              "    </tr>\n",
              "  </tbody>\n",
              "</table>\n",
              "<p>5000 rows × 4 columns</p>\n",
              "</div>"
            ],
            "text/plain": [
              "             ID                                           keywords  age  sex\n",
              "496475  2903855  charlotte:2;video:2;fille:2;passion:2;cachee:2...  nan  nan\n",
              "319156   539344  article:1;indesirables:1;ministre:1;annonce:1;...  nan  nan\n",
              "445520  2835244  demande:1;modele:1;faq:1;lettre:1;temps:1;part...  nan  nan\n",
              "233417  1597502  ville:9;doit:1;travail:2;bayencourt:9;les:1;re...  nan  nan\n",
              "282135  1381180                                                nan  nan  nan\n",
              "...         ...                                                ...  ...  ...\n",
              "89389   1212167                            detail_offre:5;emploi:5  nan  nan\n",
              "373509  1802826  instagram:33;macron:33;francais:1;dans:1;bundc...  nan  nan\n",
              "314222  2019205                                             edit:3  nan  nan\n",
              "211702   664824             emploi:3;liste_offres:2;detail_offre:1  nan  nan\n",
              "362409  1418623                 bubbles:3;bubble:3;shooter:3;jeu:3  nan  nan\n",
              "\n",
              "[5000 rows x 4 columns]"
            ]
          },
          "execution_count": 9,
          "metadata": {
            "tags": []
          },
          "output_type": "execute_result"
        }
      ],
      "source": [
        "#View data\n",
        "data_test"
      ]
    },
    {
      "cell_type": "code",
      "execution_count": null,
      "metadata": {
        "colab": {
          "base_uri": "https://localhost:8080/"
        },
        "id": "E8FUOUVdt5xX",
        "outputId": "bea54bca-2775-4292-e605-c59ada0b987f"
      },
      "outputs": [
        {
          "name": "stdout",
          "output_type": "stream",
          "text": [
            "##################################################\n",
            "ID\n",
            "933        42\n",
            "1888       12\n",
            "11719       7\n",
            "508566      6\n",
            "3900        5\n",
            "           ..\n",
            "4443388     1\n",
            "108616      1\n",
            "130747      1\n",
            "289947      1\n",
            "337072      1\n",
            "Name: ID, Length: 9827, dtype: int64\n",
            "##################################################\n",
            "keywords\n",
            "nan                                                                                                                                                                                                                                                                                                                                                                                                                                                                                                                                                                                                                                                                                                                                                                                                                                                                                                                                                                                                                                                                                                                                                                                                                                                                                                                                                                                                                                                                                                                                                                                                                                                                                                                                                                                                                                                                                                                                                                                                                                                                                                                                                                                                                                                                                                                                                                                                                                                                                                                                                                                                                                                                                                                                            1153\n",
            "detail_offre:1;emploi:1                                                                                                                                                                                                                                                                                                                                                                                                                                                                                                                                                                                                                                                                                                                                                                                                                                                                                                                                                                                                                                                                                                                                                                                                                                                                                                                                                                                                                                                                                                                                                                                                                                                                                                                                                                                                                                                                                                                                                                                                                                                                                                                                                                                                                                                                                                                                                                                                                                                                                                                                                                                                                                                                                                                          81\n",
            "emploi:1;detail_offre:1                                                                                                                                                                                                                                                                                                                                                                                                                                                                                                                                                                                                                                                                                                                                                                                                                                                                                                                                                                                                                                                                                                                                                                                                                                                                                                                                                                                                                                                                                                                                                                                                                                                                                                                                                                                                                                                                                                                                                                                                                                                                                                                                                                                                                                                                                                                                                                                                                                                                                                                                                                                                                                                                                                                          77\n",
            "annonce:1                                                                                                                                                                                                                                                                                                                                                                                                                                                                                                                                                                                                                                                                                                                                                                                                                                                                                                                                                                                                                                                                                                                                                                                                                                                                                                                                                                                                                                                                                                                                                                                                                                                                                                                                                                                                                                                                                                                                                                                                                                                                                                                                                                                                                                                                                                                                                                                                                                                                                                                                                                                                                                                                                                                                        71\n",
            "emploi:2;detail_offre:2                                                                                                                                                                                                                                                                                                                                                                                                                                                                                                                                                                                                                                                                                                                                                                                                                                                                                                                                                                                                                                                                                                                                                                                                                                                                                                                                                                                                                                                                                                                                                                                                                                                                                                                                                                                                                                                                                                                                                                                                                                                                                                                                                                                                                                                                                                                                                                                                                                                                                                                                                                                                                                                                                                                          34\n",
            "                                                                                                                                                                                                                                                                                                                                                                                                                                                                                                                                                                                                                                                                                                                                                                                                                                                                                                                                                                                                                                                                                                                                                                                                                                                                                                                                                                                                                                                                                                                                                                                                                                                                                                                                                                                                                                                                                                                                                                                                                                                                                                                                                                                                                                                                                                                                                                                                                                                                                                                                                                                                                                                                                                                                               ... \n",
            "moutarde:3;gratin:3;financees:1;legumes:2;crevettes:7;article:1;caramelisees:2;carbo:1;poires:2;lit:2;mini:1;ingenieurs:1;poulette:2;sans:2;pennes:1;pour:1;recettes:38;ravioli:3;spirelli:3;facebook:1;persil:2;chevre:3;inquietante:1;four:3;noisette:2;tva:1;secteur:1;patiflette:2;reglisse:2;gluten:2;sauce:11;des:1;conjoncture:1;sautees:1;ricotta:2;noix:2;jambon:8;situation:1;jeunes:1;facon:2;piment:6;attractions:1;chorizo:8;pates:50;grises:3;tagliatelle:1;brocolis:2;spaghetti:38;vert:3;regime:12;frit:1;poivrons:5;pastasotto:2;fait:12;piments:3;grilles:2;szechuan:2;porto:3;epinards:3;homosexuels:1;carbonara:4;thon:5;tortiglioni:39;farcis:3;petoncles:2;veritable:1;high:1;tagliatelles:1;lasagne:38;coquillettes:4;croziflette:2;figues:2;gratins:1;ancienne:3;beurre:2;spiralines:2;citronnees:2;amandes:1;sur:2;capres:4;spaghettis:3;linguine:5;champignons:5;pepper:1;herve:2;tomates:5;calamarata:2;salade:2;bien:12;pignons:1;citron:7;orecchiette:1;jus:12;etre:12;fenouil:2;echalotes:2;pin:1;jaune:1;fines:3;herbes:3;torrefies:1;parmesan:3;citron:12;coriandre:2;lard:3;les:1;baies:2;siege:1;conchiglioni:7;morrazella:1;cru:2;maigrir:12;chili:3;aux:15;rouge:8;parc:1;pesto:2;paprika:4;tech:1;tomate:2;doux:3;mozzarella:4;gastronomie:38;chapelure:3;peu:1;conchiglie:2;social:1;les:1;citronne:2;par:1;risotto:3;parme:1;sechees:3;saumon:3;red:1;vih:1;des:1;artichauts:1;merguez:3;chez:1;penne:39;regions:1;cremeuse:2;creme:2;fromages:1;liege:2;fume:5;fromage:4;sirop:2;recette:27;farfalles:2;ail:5                                                                                                                                                                                                                                                                                                                                                                                                                                                                                                                                                                                                                                                                                                                                                                                                                                                                                                                                                                                                                                                                                                                                                                                             1\n",
            "chef:1;android:1;informatique:1;projet:1;offre:1                                                                                                                                                                                                                                                                                                                                                                                                                                                                                                                                                                                                                                                                                                                                                                                                                                                                                                                                                                                                                                                                                                                                                                                                                                                                                                                                                                                                                                                                                                                                                                                                                                                                                                                                                                                                                                                                                                                                                                                                                                                                                                                                                                                                                                                                                                                                                                                                                                                                                                                                                                                                                                                                                                  1\n",
            "recette:1;hachis:1;parmentier:1                                                                                                                                                                                                                                                                                                                                                                                                                                                                                                                                                                                                                                                                                                                                                                                                                                                                                                                                                                                                                                                                                                                                                                                                                                                                                                                                                                                                                                                                                                                                                                                                                                                                                                                                                                                                                                                                                                                                                                                                                                                                                                                                                                                                                                                                                                                                                                                                                                                                                                                                                                                                                                                                                                                   1\n",
            "mort:1;pour:1;tube:1;monde:1;musique:1;gerard:1;palaprat:1;fin:1;chanteur:1                                                                                                                                                                                                                                                                                                                                                                                                                                                                                                                                                                                                                                                                                                                                                                                                                                                                                                                                                                                                                                                                                                                                                                                                                                                                                                                                                                                                                                                                                                                                                                                                                                                                                                                                                                                                                                                                                                                                                                                                                                                                                                                                                                                                                                                                                                                                                                                                                                                                                                                                                                                                                                                                       1\n",
            "toute:1;tube:1;maelys:2;suspect:1;procedure:2;nouvelle:2;patriotes:1;schweiger:1;meteo:3;off:1;defense:1;resultat:1;p1_1621350:1;expertise:1;maintenance:1;pour:1;chanteur:1;monaco:1;machine:1;localiser:1;que:1;dune:1;incoherences:1;royale:9;faq:5;gabbana:9;taxi:1;fiscalite:1;conseils:1;les:1;porto:1;generale:1;bareme:1;europe:1;vente:1;nouveaux:2;actualite:4;facturer:1;disparition:2;departement:3;defile:9;macron:5;villa:1;windsor:9;pourquoi+ma+machine+%c3%a0+laver+le+linge+whirlpool+vibre+trop+%3f:1;avoir:3;revenus:1;continue:3;est:1;belle:9;agite:1;p1_1520860:1;journaliers:2;disparition:2;renale:1;pour:9;p1_1520861:1;fin:1;cerbere:2;refere:1;capri:1;gestion:1;zone:2;cotiere:2;laver:1;affich:2;contents:1;resume:1;symptomes:1;abreu:1;arrhes:1;location:1;remboursement:1;gerard:1;pourquoi:1;definition:1;port:2;plafond:1;apres:2;symptomes:1;magazine:1;alpine:1;mairie:1;palaprat:1;stress:1;alexandre:1;societe:2;referendum:1;avec:1;taxe:1;previsions:3;direct:1;pratique:1;cest:1;requete:1;premiere:1;baraka:3;cinema:1;celebrites:9;sorbonne:1;edito:1;emploi:1;sur:2;mois:1;affaire:1;angleterre:9;des:1;sur:1;exoneration:1;ville:1;pour:3;jour:2;continuent:1;discours:1;revenu:1;dit:1;politique:3;fillette:1;dans:2;foot:1;flash:1;difference:1;vraiment:3;aigue:1;ans:1;qui:1;suivez:1;habitation:1;anomalies:1;gamma:1;evolution:1;marine:2;forum:2;pierron:2;anesthesie:1;sport:1;forum:3;symptome:1;san:1;sante:1;adulte:1;ralliements:1;requete:2;chronique:1;score:1;musique:1;affich:3;justice:1;impot:1;insuffisance:1;ida:1;haute:3;sur:2;gregory:1;voyant:1;deco:1;acompte:1;audrey:2;temoignages:2;lettre:1;resiliation:1;ferme:1;fievre:1;til:1;proposer:1;seul:1;besoins:2;plus:9;poissons:1;video:1;france:4;accumulent:1;eco:1;sans:1;famille:9;previsions:2;comment:1;terme:1;une:1;etre:1;fatigue:1;jugee:1;achat:1;linge:1;definition:1;economie:1;volant:1;fois:1;que:2;faq:3;monde:1;scan:2;modele:1;murielle:1;bolle:1;les:2;x311:1;meteo:2;astro:1;teste:1;article:1;enregistrer:1;assignation:1;patrimoine:1;son:1;bluetooth:1;calories:2;portable:1;faq:1;france:2;apres:1;onze:1;amelia:9;dictionnaire:1;emmanuel:3;actualite:2;philippot:1;match:1;quotidien:1;tribunal:1;definition:1;conjoncture:3;trop:1;suspect:2;copains:1;definition:1;psychologique:1;consentante:1;dubai:1;femme:9;hydrique:1;menace:1;pilote:1;relation:1;traitement:1;enlever:1;pompidou:1;verbe:1;savoie:3;par:2;detail_offre:1;enquete:1;contrat:1;immobilier:1;bail:1;jcms:3;boutons:1;quest:1;whirlpool:1;conjugaison:1;design:1;sortileges:1;michele:1;france:3;sexuelle:1;horoscope:1;vibre:1;application:1;humain.shtml:1;service:1;maelys:2;mort:1;telephone:1;dolce:9;detail:1       1\n",
            "Name: keywords, Length: 8315, dtype: int64\n",
            "##################################################\n",
            "age\n",
            "42     340\n",
            "40     316\n",
            "48     312\n",
            "39     305\n",
            "38     303\n",
            "      ... \n",
            "100      1\n",
            "86       1\n",
            "83       1\n",
            "89       1\n",
            "87       1\n",
            "Name: age, Length: 76, dtype: int64\n",
            "##################################################\n",
            "sex\n",
            "M    5592\n",
            "F    4408\n",
            "Name: sex, dtype: int64\n"
          ]
        }
      ],
      "source": [
        "#Describe data_train\n",
        "#Print column names and outputs\n",
        "for col in data_train.columns:\n",
        "  print(\"#\"*50)\n",
        "  print(col)\n",
        "  print(data_train[col].value_counts())"
      ]
    },
    {
      "cell_type": "code",
      "execution_count": null,
      "metadata": {
        "colab": {
          "background_save": true,
          "base_uri": "https://localhost:8080/"
        },
        "id": "iJn0gmCkt5bK",
        "outputId": "1b9db137-f73a-46f0-bbf2-5e8f08690814"
      },
      "outputs": [
        {
          "data": {
            "text/plain": [
              "ID          0\n",
              "keywords    0\n",
              "age         0\n",
              "sex         0\n",
              "dtype: int64"
            ]
          },
          "execution_count": null,
          "metadata": {},
          "output_type": "execute_result"
        }
      ],
      "source": [
        "#Check missing data\n",
        "data_train.isnull().sum()"
      ]
    },
    {
      "cell_type": "markdown",
      "metadata": {
        "id": "nq49AqUTVQXu"
      },
      "source": [
        "## Split DataSet in Training Set / Testing Set in 80% / 20% "
      ]
    },
    {
      "cell_type": "code",
      "execution_count": null,
      "metadata": {
        "colab": {
          "background_save": true
        },
        "id": "lCYC8jTvS4er"
      },
      "outputs": [],
      "source": [
        "web_train_dataset, web_test_dataset = train_test_split(data_train, test_size=0.2, random_state = 1)\n"
      ]
    },
    {
      "cell_type": "code",
      "execution_count": null,
      "metadata": {
        "colab": {
          "base_uri": "https://localhost:8080/"
        },
        "id": "1qGCcV3wS3r2",
        "outputId": "247fe7b8-a69c-4886-8c61-60d2ea6d482c"
      },
      "outputs": [
        {
          "name": "stdout",
          "output_type": "stream",
          "text": [
            "Test Dataset :  2000\n",
            "Train Dataset :  8000\n",
            "Labels :  6650\n"
          ]
        }
      ],
      "source": [
        "print(\"Test Dataset : \" ,len(web_test_dataset))\n",
        "print(\"Train Dataset : \", len(web_train_dataset))\n",
        "print(\"Labels : \", len(web_train_dataset.keywords.unique()))"
      ]
    },
    {
      "cell_type": "markdown",
      "metadata": {
        "id": "ZbXM6D_mWyeJ"
      },
      "source": [
        "## Custom CNN for Text Classification (with Learned embeddings)\n",
        "\n",
        "\n"
      ]
    },
    {
      "cell_type": "code",
      "execution_count": null,
      "metadata": {
        "id": "B-_FND68nNCV"
      },
      "outputs": [],
      "source": [
        "from keras.preprocessing.text import Tokenizer\n",
        "from keras.models import Sequential, Model\n",
        "from keras.optimizers import Adamax, Adam\n",
        "from keras.preprocessing import sequence\n",
        "from sklearn.preprocessing import LabelBinarizer\n",
        "from sklearn.model_selection import train_test_split"
      ]
    },
    {
      "cell_type": "code",
      "execution_count": null,
      "metadata": {
        "id": "k2HRlxN8qv4h"
      },
      "outputs": [],
      "source": [
        "from keras.layers import Input, Embedding, Reshape, Conv2D, MaxPool2D"
      ]
    },
    {
      "cell_type": "code",
      "execution_count": null,
      "metadata": {
        "id": "HUzv2dzcfovs"
      },
      "outputs": [],
      "source": [
        "from keras.layers import Concatenate, Flatten, Dropout, Dense, Activation"
      ]
    },
    {
      "cell_type": "code",
      "execution_count": null,
      "metadata": {
        "id": "_Vl9nUQmnOSE"
      },
      "outputs": [],
      "source": [
        "from keras import backend as K\n",
        "#K.tensorflow_backend._get_available_gpus()"
      ]
    },
    {
      "cell_type": "code",
      "execution_count": null,
      "metadata": {
        "colab": {
          "base_uri": "https://localhost:8080/"
        },
        "id": "J4cu7ewbeQHL",
        "outputId": "60e5e031-0125-41d5-92d6-3c8b5da582f1"
      },
      "outputs": [
        {
          "name": "stdout",
          "output_type": "stream",
          "text": [
            "[nltk_data] Downloading package stopwords to /root/nltk_data...\n",
            "[nltk_data]   Package stopwords is already up-to-date!\n"
          ]
        },
        {
          "data": {
            "text/plain": [
              "True"
            ]
          },
          "execution_count": 18,
          "metadata": {
            "tags": []
          },
          "output_type": "execute_result"
        }
      ],
      "source": [
        "import nltk\n",
        "nltk.download('stopwords')\n",
        "  "
      ]
    },
    {
      "cell_type": "code",
      "execution_count": null,
      "metadata": {
        "id": "K6mSTUwAnVCx"
      },
      "outputs": [],
      "source": [
        "#Load sentences from Pandas\n",
        "train_sentences = web_train_dataset['keywords'].values\n",
        "test_sentences = web_test_dataset['keywords'].values\n",
        "train_labels = web_train_dataset['sex'].values\n",
        "test_labels = web_test_dataset['sex'].values"
      ]
    },
    {
      "cell_type": "code",
      "execution_count": null,
      "metadata": {
        "id": "Xt6R1mu-nlim"
      },
      "outputs": [],
      "source": [
        "num_labels = 7\n",
        "vocab_size = 15000\n",
        "batch_size = 1000\n",
        "top_words = 15000\n",
        "embedding_vector_length = 300\n",
        "maxlen = 30\n",
        "\n",
        "## for CNN\n",
        "filter_sizes = [2,4,6]\n",
        "num_filters = 20\n",
        "drop = 0.5\n"
      ]
    },
    {
      "cell_type": "code",
      "execution_count": null,
      "metadata": {
        "id": "SvZqOlc-npbW"
      },
      "outputs": [],
      "source": [
        "#import snowballstemmer\n",
        "#SnowballStemmer\n",
        "import nltk\n",
        "pd.options.mode.chained_assignment = None  # default='warn'\n",
        "\n",
        "stemmer = SnowballStemmer\n",
        "stop = nltk.corpus.stopwords.words('english')\n",
        "#stop.extend(lowfreq)\n",
        "toktok = nltk.tokenize.toktok.ToktokTokenizer()\n",
        "\n",
        "web_train_dataset['cleaned'] = web_train_dataset['keywords']\n",
        "web_train_dataset['cleaned'].replace('[!\"#%\\'()*+,-./:;<=>?@\\[\\]^_`{|}~’”“′‘\\\\\\]',' ',inplace=True,regex=True)\n",
        "web_train_dataset['cleaned'] = web_train_dataset['cleaned'].str.lower()\n",
        "web_train_dataset['cleaned'] = web_train_dataset['cleaned'].apply(toktok.tokenize)\n",
        "web_train_dataset['cleaned'] = web_train_dataset['cleaned'].apply(lambda x: [word for word in x if word not in stop])\n",
        "web_train_dataset['cleaned'] = web_train_dataset['cleaned'].apply(lambda x: \" \".join(x))\n",
        "\n",
        "web_test_dataset['cleaned'] = web_test_dataset['keywords']\n",
        "web_test_dataset['cleaned'].replace('[!\"#%\\'()*+,-./:;<=>?@\\[\\]^_`{|}~’”“′‘\\\\\\]',' ',inplace=True,regex=True)\n",
        "web_test_dataset['cleaned'] = web_test_dataset['cleaned'].str.lower()\n",
        "web_test_dataset['cleaned'] = web_test_dataset['cleaned'].apply(toktok.tokenize)\n",
        "web_test_dataset['cleaned'] = web_test_dataset['cleaned'].apply(lambda x: [word for word in x if word not in stop])\n",
        "web_test_dataset['cleaned'] = web_test_dataset['cleaned'].apply(lambda x: \" \".join(x))"
      ]
    },
    {
      "cell_type": "code",
      "execution_count": null,
      "metadata": {
        "id": "GnHcu2Oanunt"
      },
      "outputs": [],
      "source": [
        "#Load Sentences from pandas\n",
        "train_sentences = web_train_dataset['cleaned'].values\n",
        "test_sentences = web_test_dataset['cleaned'].values\n",
        "train_labels = web_train_dataset['sex'].values\n",
        "test_labels = web_test_dataset['sex'].values"
      ]
    },
    {
      "cell_type": "code",
      "execution_count": null,
      "metadata": {
        "colab": {
          "base_uri": "https://localhost:8080/"
        },
        "id": "JOWUbA6dn039",
        "outputId": "9786b16e-7551-45c6-bc0e-6aa95194e37e"
      },
      "outputs": [
        {
          "data": {
            "text/plain": [
              "(8000, 30)"
            ]
          },
          "execution_count": 23,
          "metadata": {
            "tags": []
          },
          "output_type": "execute_result"
        }
      ],
      "source": [
        "tokenizer = Tokenizer(num_words=vocab_size)\n",
        "tokenizer.fit_on_texts(train_sentences)\n",
        "x_train = tokenizer.texts_to_sequences(train_sentences)\n",
        "x_test = tokenizer.texts_to_sequences(test_sentences)\n",
        "x_train = sequence.pad_sequences(x_train, maxlen=maxlen)\n",
        "x_test = sequence.pad_sequences(x_test, maxlen=maxlen)\n",
        "x_train.shape"
      ]
    },
    {
      "cell_type": "code",
      "execution_count": null,
      "metadata": {
        "id": "TdXmWI8rqPbs"
      },
      "outputs": [],
      "source": [
        "#Encode the Labels\n",
        "encoder = LabelBinarizer()\n",
        "encoder.fit(train_labels)\n",
        "y_train = encoder.transform(train_labels)\n",
        "y_test = encoder.transform(test_labels)"
      ]
    },
    {
      "cell_type": "code",
      "execution_count": null,
      "metadata": {
        "colab": {
          "base_uri": "https://localhost:8080/"
        },
        "id": "HzlyMDijqTdd",
        "outputId": "9581d169-26f7-494d-f538-a78d3ed54dcc"
      },
      "outputs": [
        {
          "name": "stdout",
          "output_type": "stream",
          "text": [
            "Model: \"model\"\n",
            "__________________________________________________________________________________________________\n",
            "Layer (type)                    Output Shape         Param #     Connected to                     \n",
            "==================================================================================================\n",
            "input_1 (InputLayer)            [(None, 30)]         0                                            \n",
            "__________________________________________________________________________________________________\n",
            "embedding (Embedding)           (None, 30, 300)      4500000     input_1[0][0]                    \n",
            "__________________________________________________________________________________________________\n",
            "reshape (Reshape)               (None, 30, 300, 1)   0           embedding[0][0]                  \n",
            "__________________________________________________________________________________________________\n",
            "conv2d (Conv2D)                 (None, 29, 1, 20)    12020       reshape[0][0]                    \n",
            "__________________________________________________________________________________________________\n",
            "conv2d_1 (Conv2D)               (None, 27, 1, 20)    24020       reshape[0][0]                    \n",
            "__________________________________________________________________________________________________\n",
            "conv2d_2 (Conv2D)               (None, 25, 1, 20)    36020       reshape[0][0]                    \n",
            "__________________________________________________________________________________________________\n",
            "max_pooling2d (MaxPooling2D)    (None, 1, 1, 20)     0           conv2d[0][0]                     \n",
            "__________________________________________________________________________________________________\n",
            "max_pooling2d_1 (MaxPooling2D)  (None, 1, 1, 20)     0           conv2d_1[0][0]                   \n",
            "__________________________________________________________________________________________________\n",
            "max_pooling2d_2 (MaxPooling2D)  (None, 1, 1, 20)     0           conv2d_2[0][0]                   \n",
            "__________________________________________________________________________________________________\n",
            "concatenate (Concatenate)       (None, 3, 1, 20)     0           max_pooling2d[0][0]              \n",
            "                                                                 max_pooling2d_1[0][0]            \n",
            "                                                                 max_pooling2d_2[0][0]            \n",
            "__________________________________________________________________________________________________\n",
            "flatten (Flatten)               (None, 60)           0           concatenate[0][0]                \n",
            "__________________________________________________________________________________________________\n",
            "dropout (Dropout)               (None, 60)           0           flatten[0][0]                    \n",
            "__________________________________________________________________________________________________\n",
            "dense (Dense)                   (None, 7)            427         dropout[0][0]                    \n",
            "__________________________________________________________________________________________________\n",
            "activation (Activation)         (None, 7)            0           dense[0][0]                      \n",
            "==================================================================================================\n",
            "Total params: 4,572,487\n",
            "Trainable params: 4,572,487\n",
            "Non-trainable params: 0\n",
            "__________________________________________________________________________________________________\n",
            "Epoch 1/25\n",
            "7/7 [==============================] - 24s 1s/step - loss: 1.8171 - accuracy: 0.3512 - val_loss: 1.4038 - val_accuracy: 0.5725\n",
            "Epoch 2/25\n",
            "7/7 [==============================] - 7s 956ms/step - loss: 1.3324 - accuracy: 0.5586 - val_loss: 1.0239 - val_accuracy: 0.5731\n",
            "Epoch 3/25\n",
            "7/7 [==============================] - 7s 966ms/step - loss: 1.0129 - accuracy: 0.5685 - val_loss: 0.8005 - val_accuracy: 0.5788\n",
            "Epoch 4/25\n",
            "7/7 [==============================] - 7s 967ms/step - loss: 0.8324 - accuracy: 0.5688 - val_loss: 0.7149 - val_accuracy: 0.5819\n",
            "Epoch 5/25\n",
            "7/7 [==============================] - 7s 970ms/step - loss: 0.7596 - accuracy: 0.5772 - val_loss: 0.6879 - val_accuracy: 0.5956\n",
            "Epoch 6/25\n",
            "7/7 [==============================] - 7s 966ms/step - loss: 0.7030 - accuracy: 0.6098 - val_loss: 0.6772 - val_accuracy: 0.6037\n",
            "Epoch 7/25\n",
            "7/7 [==============================] - 7s 970ms/step - loss: 0.6716 - accuracy: 0.6242 - val_loss: 0.6721 - val_accuracy: 0.6131\n",
            "Epoch 8/25\n",
            "7/7 [==============================] - 7s 956ms/step - loss: 0.6382 - accuracy: 0.6647 - val_loss: 0.6689 - val_accuracy: 0.6137\n",
            "Epoch 9/25\n",
            "7/7 [==============================] - 7s 956ms/step - loss: 0.6129 - accuracy: 0.6957 - val_loss: 0.6650 - val_accuracy: 0.6162\n",
            "Epoch 10/25\n",
            "7/7 [==============================] - 7s 955ms/step - loss: 0.5818 - accuracy: 0.7308 - val_loss: 0.6626 - val_accuracy: 0.6144\n",
            "Epoch 11/25\n",
            "7/7 [==============================] - 7s 949ms/step - loss: 0.5491 - accuracy: 0.7574 - val_loss: 0.6622 - val_accuracy: 0.6150\n",
            "Epoch 12/25\n",
            "7/7 [==============================] - 7s 949ms/step - loss: 0.5203 - accuracy: 0.7878 - val_loss: 0.6615 - val_accuracy: 0.6081\n",
            "Epoch 13/25\n",
            "7/7 [==============================] - 7s 964ms/step - loss: 0.4955 - accuracy: 0.8001 - val_loss: 0.6634 - val_accuracy: 0.6087\n",
            "Epoch 14/25\n",
            "7/7 [==============================] - 7s 957ms/step - loss: 0.4661 - accuracy: 0.8238 - val_loss: 0.6670 - val_accuracy: 0.6050\n",
            "Epoch 15/25\n",
            "7/7 [==============================] - 7s 951ms/step - loss: 0.4319 - accuracy: 0.8403 - val_loss: 0.6723 - val_accuracy: 0.6031\n",
            "Epoch 16/25\n",
            "7/7 [==============================] - 7s 966ms/step - loss: 0.4038 - accuracy: 0.8534 - val_loss: 0.6788 - val_accuracy: 0.5987\n",
            "Epoch 17/25\n",
            "7/7 [==============================] - 7s 945ms/step - loss: 0.3749 - accuracy: 0.8679 - val_loss: 0.6876 - val_accuracy: 0.5975\n",
            "Epoch 18/25\n",
            "7/7 [==============================] - 7s 948ms/step - loss: 0.3530 - accuracy: 0.8720 - val_loss: 0.7052 - val_accuracy: 0.5856\n",
            "Epoch 19/25\n",
            "7/7 [==============================] - 7s 959ms/step - loss: 0.3272 - accuracy: 0.8869 - val_loss: 0.7121 - val_accuracy: 0.6037\n",
            "Epoch 20/25\n",
            "7/7 [==============================] - 7s 955ms/step - loss: 0.3071 - accuracy: 0.8885 - val_loss: 0.7376 - val_accuracy: 0.5800\n",
            "Epoch 21/25\n",
            "7/7 [==============================] - 7s 962ms/step - loss: 0.2900 - accuracy: 0.8962 - val_loss: 0.7495 - val_accuracy: 0.5888\n",
            "Epoch 22/25\n",
            "7/7 [==============================] - 7s 963ms/step - loss: 0.2707 - accuracy: 0.9031 - val_loss: 0.7748 - val_accuracy: 0.5806\n",
            "Epoch 23/25\n",
            "7/7 [==============================] - 7s 984ms/step - loss: 0.2585 - accuracy: 0.9061 - val_loss: 0.7961 - val_accuracy: 0.5900\n",
            "Epoch 24/25\n",
            "7/7 [==============================] - 7s 972ms/step - loss: 0.2451 - accuracy: 0.9120 - val_loss: 0.8258 - val_accuracy: 0.5813\n",
            "Epoch 25/25\n",
            "7/7 [==============================] - 7s 979ms/step - loss: 0.2286 - accuracy: 0.9153 - val_loss: 0.8494 - val_accuracy: 0.5813\n"
          ]
        }
      ],
      "source": [
        "#Build the Model\n",
        "Inputs_W = Input(shape=(maxlen,))\n",
        "Inputs_E = Embedding(vocab_size, embedding_vector_length, input_length=maxlen)(Inputs_W)\n",
        "reshape = Reshape((maxlen,embedding_vector_length,1))(Inputs_E)\n",
        "\n",
        "conv_0 = Conv2D(num_filters, kernel_size=(filter_sizes[0], embedding_vector_length), padding='valid', kernel_initializer='normal', activation='relu')(reshape)\n",
        "conv_1 = Conv2D(num_filters, kernel_size=(filter_sizes[1], embedding_vector_length), padding='valid', kernel_initializer='normal', activation='relu')(reshape)\n",
        "conv_2 = Conv2D(num_filters, kernel_size=(filter_sizes[2], embedding_vector_length), padding='valid', kernel_initializer='normal', activation='relu')(reshape)\n",
        "\n",
        "maxpool_0 = MaxPool2D(pool_size=(maxlen - filter_sizes[0] + 1, 1), strides=(1,1), padding='valid')(conv_0)\n",
        "maxpool_1 = MaxPool2D(pool_size=(maxlen - filter_sizes[1] + 1, 1), strides=(1,1), padding='valid')(conv_1)\n",
        "maxpool_2 = MaxPool2D(pool_size=(maxlen - filter_sizes[2] + 1, 1), strides=(1,1), padding='valid')(conv_2)\n",
        "\n",
        "concatenated_tensor = Concatenate(axis=1)([maxpool_0, maxpool_1, maxpool_2])\n",
        "flatten = Flatten()(concatenated_tensor)\n",
        "dropout = Dropout(drop)(flatten)\n",
        "Dense_Label = Dense(num_labels)(dropout)\n",
        "Classifier = Activation('softmax')(Dense_Label)\n",
        "\n",
        "model = Model(Inputs_W, Classifier)\n",
        "model.summary()\n",
        "\n",
        "optimizer = Adam(lr=0.001, beta_1=0.9, beta_2=0.999, amsgrad=False)\n",
        "    \n",
        "model.compile(loss='sparse_categorical_crossentropy',\n",
        "              optimizer=optimizer,\n",
        "              metrics=['accuracy'])\n",
        " \n",
        "history = model.fit(x_train, y_train,\n",
        "                    batch_size=batch_size,\n",
        "                    epochs=25,\n",
        "                    verbose=1,\n",
        "                    validation_split=0.2)"
      ]
    },
    {
      "cell_type": "code",
      "execution_count": null,
      "metadata": {
        "colab": {
          "base_uri": "https://localhost:8080/"
        },
        "id": "1ST18Q7nsN-p",
        "outputId": "bc22da70-013f-4dfd-afca-2baee864c2ea"
      },
      "outputs": [
        {
          "name": "stdout",
          "output_type": "stream",
          "text": [
            "2/2 [==============================] - 1s 143ms/step - loss: 0.8374 - accuracy: 0.5650\n",
            "Test accuracy: 0.5649999976158142\n"
          ]
        }
      ],
      "source": [
        "score = model.evaluate(x_test, y_test,\n",
        "                       batch_size=batch_size, verbose=1)\n",
        " \n",
        "print('Test accuracy:', score[1])\n",
        " \n",
        "text_labels = encoder.classes_\n",
        "\n",
        "Result = []\n",
        "for i in range(len(web_test_dataset)):\n",
        "    prediction = model.predict(np.array([x_test[i]]))\n",
        "    predicted_label = text_labels[np.argmax(prediction[0])]\n",
        "    Result.append(predicted_label)\n",
        "    \n",
        "# Append the list of results to the test dataframe\n",
        "pd.options.mode.chained_assignment = None  # default='warn'\n",
        "web_test_dataset['result_CustomRNN'] = Result"
      ]
    },
    {
      "cell_type": "code",
      "execution_count": null,
      "metadata": {
        "colab": {
          "base_uri": "https://localhost:8080/",
          "height": 419
        },
        "id": "wFgGp_XNtAvd",
        "outputId": "54b6ee98-fecd-4ec4-a6cf-a2ff46e1b224"
      },
      "outputs": [
        {
          "data": {
            "text/html": [
              "<div>\n",
              "<style scoped>\n",
              "    .dataframe tbody tr th:only-of-type {\n",
              "        vertical-align: middle;\n",
              "    }\n",
              "\n",
              "    .dataframe tbody tr th {\n",
              "        vertical-align: top;\n",
              "    }\n",
              "\n",
              "    .dataframe thead th {\n",
              "        text-align: right;\n",
              "    }\n",
              "</style>\n",
              "<table border=\"1\" class=\"dataframe\">\n",
              "  <thead>\n",
              "    <tr style=\"text-align: right;\">\n",
              "      <th></th>\n",
              "      <th>ID</th>\n",
              "      <th>keywords</th>\n",
              "      <th>age</th>\n",
              "      <th>sex</th>\n",
              "      <th>cleaned</th>\n",
              "      <th>result_CustomRNN</th>\n",
              "    </tr>\n",
              "  </thead>\n",
              "  <tbody>\n",
              "    <tr>\n",
              "      <th>673590</th>\n",
              "      <td>171197</td>\n",
              "      <td>download:7;conversion:3;trombinoscope:1;video:3</td>\n",
              "      <td>24</td>\n",
              "      <td>M</td>\n",
              "      <td>download 7 conversion 3 trombinoscope 1 video 3</td>\n",
              "      <td>M</td>\n",
              "    </tr>\n",
              "    <tr>\n",
              "      <th>709637</th>\n",
              "      <td>1495802</td>\n",
              "      <td>jcms:4;leguer:2;reseau:2;ville:2;des:2;peut:2;...</td>\n",
              "      <td>68</td>\n",
              "      <td>M</td>\n",
              "      <td>jcms 4 leguer 2 reseau 2 ville 2 des 2 peut 2 ...</td>\n",
              "      <td>M</td>\n",
              "    </tr>\n",
              "    <tr>\n",
              "      <th>165630</th>\n",
              "      <td>787894</td>\n",
              "      <td>miser:1;lesquels:1;emploi:1;ces:1;jobs:1;sur:1...</td>\n",
              "      <td>38</td>\n",
              "      <td>F</td>\n",
              "      <td>miser 1 lesquels 1 emploi 1 ces 1 jobs 1 sur 1...</td>\n",
              "      <td>F</td>\n",
              "    </tr>\n",
              "    <tr>\n",
              "      <th>686205</th>\n",
              "      <td>696834</td>\n",
              "      <td>gua:1;ville:1</td>\n",
              "      <td>33</td>\n",
              "      <td>F</td>\n",
              "      <td>gua 1 ville 1</td>\n",
              "      <td>M</td>\n",
              "    </tr>\n",
              "    <tr>\n",
              "      <th>972683</th>\n",
              "      <td>4587348</td>\n",
              "      <td>routiers:2;service:2;quelles:2;conso:2;carbura...</td>\n",
              "      <td>39</td>\n",
              "      <td>F</td>\n",
              "      <td>routiers 2 service 2 quelles 2 conso 2 carbura...</td>\n",
              "      <td>M</td>\n",
              "    </tr>\n",
              "    <tr>\n",
              "      <th>...</th>\n",
              "      <td>...</td>\n",
              "      <td>...</td>\n",
              "      <td>...</td>\n",
              "      <td>...</td>\n",
              "      <td>...</td>\n",
              "      <td>...</td>\n",
              "    </tr>\n",
              "    <tr>\n",
              "      <th>684736</th>\n",
              "      <td>45164</td>\n",
              "      <td>nan</td>\n",
              "      <td>41</td>\n",
              "      <td>M</td>\n",
              "      <td>nan</td>\n",
              "      <td>M</td>\n",
              "    </tr>\n",
              "    <tr>\n",
              "      <th>788023</th>\n",
              "      <td>1463032</td>\n",
              "      <td>cartes:1;philippot:1;frederic:1;saint:1;par:1;...</td>\n",
              "      <td>32</td>\n",
              "      <td>M</td>\n",
              "      <td>cartes 1 philippot 1 frederic 1 saint 1 par 1 ...</td>\n",
              "      <td>M</td>\n",
              "    </tr>\n",
              "    <tr>\n",
              "      <th>881002</th>\n",
              "      <td>647353</td>\n",
              "      <td>suspect:1;f154213547:1;actualite:1;temoignages...</td>\n",
              "      <td>42</td>\n",
              "      <td>M</td>\n",
              "      <td>suspect 1 f154213547 1 actualite 1 temoignages...</td>\n",
              "      <td>F</td>\n",
              "    </tr>\n",
              "    <tr>\n",
              "      <th>532198</th>\n",
              "      <td>957913</td>\n",
              "      <td>balbigny:1;previsions:1;ville:1;france:1;meteo:1</td>\n",
              "      <td>46</td>\n",
              "      <td>M</td>\n",
              "      <td>balbigny 1 previsions 1 ville 1 france 1 meteo 1</td>\n",
              "      <td>M</td>\n",
              "    </tr>\n",
              "    <tr>\n",
              "      <th>254165</th>\n",
              "      <td>6993722</td>\n",
              "      <td>recette:1;poivrons:1;chakchouka:1;aux:1</td>\n",
              "      <td>24</td>\n",
              "      <td>M</td>\n",
              "      <td>recette 1 poivrons 1 chakchouka 1 aux 1</td>\n",
              "      <td>M</td>\n",
              "    </tr>\n",
              "  </tbody>\n",
              "</table>\n",
              "<p>2000 rows × 6 columns</p>\n",
              "</div>"
            ],
            "text/plain": [
              "             ID  ... result_CustomRNN\n",
              "673590   171197  ...                M\n",
              "709637  1495802  ...                M\n",
              "165630   787894  ...                F\n",
              "686205   696834  ...                M\n",
              "972683  4587348  ...                M\n",
              "...         ...  ...              ...\n",
              "684736    45164  ...                M\n",
              "788023  1463032  ...                M\n",
              "881002   647353  ...                F\n",
              "532198   957913  ...                M\n",
              "254165  6993722  ...                M\n",
              "\n",
              "[2000 rows x 6 columns]"
            ]
          },
          "execution_count": 27,
          "metadata": {
            "tags": []
          },
          "output_type": "execute_result"
        }
      ],
      "source": [
        "web_test_dataset"
      ]
    },
    {
      "cell_type": "code",
      "execution_count": null,
      "metadata": {
        "id": "epyDabSvprIo"
      },
      "outputs": [],
      "source": [
        "train_sentences_bis = web_train_dataset['cleaned'].values\n",
        "test_sentences_bis = web_test_dataset['cleaned'].values\n",
        "train_labels_bis = web_train_dataset['age'].values\n",
        "test_labels_bis = web_test_dataset['age'].values"
      ]
    },
    {
      "cell_type": "code",
      "execution_count": null,
      "metadata": {
        "colab": {
          "base_uri": "https://localhost:8080/"
        },
        "id": "KQ9bychGprVJ",
        "outputId": "c77f4f75-5d9d-4dd6-c2fa-4d5234b7f39c"
      },
      "outputs": [
        {
          "data": {
            "text/plain": [
              "(8000, 30)"
            ]
          },
          "execution_count": 29,
          "metadata": {
            "tags": []
          },
          "output_type": "execute_result"
        }
      ],
      "source": [
        "tokenizer = Tokenizer(num_words=vocab_size)\n",
        "tokenizer.fit_on_texts(train_sentences_bis)\n",
        "x_train_bis = tokenizer.texts_to_sequences(train_sentences_bis)\n",
        "x_test_bis = tokenizer.texts_to_sequences(test_sentences_bis)\n",
        "x_train_bis = sequence.pad_sequences(x_train_bis, maxlen=maxlen)\n",
        "x_test_bis = sequence.pad_sequences(x_test_bis, maxlen=maxlen)\n",
        "x_train_bis.shape"
      ]
    },
    {
      "cell_type": "code",
      "execution_count": null,
      "metadata": {
        "id": "i6VqE_UGprfs"
      },
      "outputs": [],
      "source": [
        "y_train_bis = train_labels_bis\n",
        "y_test_bis = test_labels_bis"
      ]
    },
    {
      "cell_type": "code",
      "execution_count": null,
      "metadata": {
        "id": "wI2k-_mLGp9D"
      },
      "outputs": [],
      "source": [
        "import xgboost as xgb\n",
        "from sklearn.model_selection import KFold, cross_val_score, train_test_split\n",
        "from sklearn.ensemble import RandomForestRegressor\n",
        "from xgboost import plot_importance\n",
        "from sklearn.metrics import mean_squared_error"
      ]
    },
    {
      "cell_type": "code",
      "execution_count": null,
      "metadata": {
        "colab": {
          "base_uri": "https://localhost:8080/"
        },
        "id": "qWMWAyfuGqSN",
        "outputId": "b698c215-4145-4954-c116-f3b72079ce0f"
      },
      "outputs": [
        {
          "name": "stdout",
          "output_type": "stream",
          "text": [
            "[09:12:31] WARNING: /workspace/src/objective/regression_obj.cu:152: reg:linear is now deprecated in favor of reg:squarederror.\n"
          ]
        },
        {
          "data": {
            "text/plain": [
              "3.63766955648937"
            ]
          },
          "execution_count": 32,
          "metadata": {
            "tags": []
          },
          "output_type": "execute_result"
        }
      ],
      "source": [
        "xgbr= xgb.XGBRegressor(objective ='reg:linear', colsample_bytree = 0.3, learning_rate = 0.07,max_depth = 5, alpha = 10, n_estimators = 1000,n_jobs=-1)\n",
        "\n",
        "xgbr.fit(x_train_bis,y_train_bis)\n",
        "\n",
        "Y_pred=xgbr.predict(x_test_bis)\n",
        "\n",
        "mse = mean_squared_error(y_test_bis, Y_pred, squared=False)\n",
        "\n",
        "rmse=mse**0.5\n",
        "\n",
        "rmse"
      ]
    },
    {
      "cell_type": "code",
      "execution_count": null,
      "metadata": {
        "colab": {
          "base_uri": "https://localhost:8080/"
        },
        "id": "VSHYiXxjGqku",
        "outputId": "e740bf26-e929-40b9-9ea3-c00fc424b3cf"
      },
      "outputs": [
        {
          "name": "stdout",
          "output_type": "stream",
          "text": [
            "[09:12:36] WARNING: /workspace/src/objective/regression_obj.cu:152: reg:linear is now deprecated in favor of reg:squarederror.\n"
          ]
        },
        {
          "data": {
            "text/plain": [
              "XGBRegressor(alpha=10, base_score=0.5, booster='gbtree', colsample_bylevel=1,\n",
              "             colsample_bynode=1, colsample_bytree=0.3, gamma=0,\n",
              "             importance_type='gain', learning_rate=0.07, max_delta_step=0,\n",
              "             max_depth=5, min_child_weight=1, missing=None, n_estimators=1000,\n",
              "             n_jobs=-1, nthread=None, objective='reg:linear', random_state=0,\n",
              "             reg_alpha=0, reg_lambda=1, scale_pos_weight=1, seed=None,\n",
              "             silent=None, subsample=1, verbosity=1)"
            ]
          },
          "execution_count": 33,
          "metadata": {
            "tags": []
          },
          "output_type": "execute_result"
        }
      ],
      "source": [
        "xgbr.fit(x_train_bis,y_train_bis)"
      ]
    },
    {
      "cell_type": "code",
      "execution_count": null,
      "metadata": {
        "colab": {
          "base_uri": "https://localhost:8080/"
        },
        "id": "NNT7JSqUGqws",
        "outputId": "f4769736-b124-4527-cbe1-d433d52641ba"
      },
      "outputs": [
        {
          "data": {
            "text/plain": [
              "0.5870287272595469"
            ]
          },
          "execution_count": 34,
          "metadata": {
            "tags": []
          },
          "output_type": "execute_result"
        }
      ],
      "source": [
        "xgbr.score(x_train_bis,y_train_bis)"
      ]
    },
    {
      "cell_type": "code",
      "execution_count": null,
      "metadata": {
        "colab": {
          "base_uri": "https://localhost:8080/"
        },
        "id": "q823stt4L7nt",
        "outputId": "fe1e30ec-51bd-42c2-e791-ba58c98d0141"
      },
      "outputs": [
        {
          "name": "stdout",
          "output_type": "stream",
          "text": [
            "[09:12:42] WARNING: /workspace/src/objective/regression_obj.cu:152: reg:linear is now deprecated in favor of reg:squarederror.\n"
          ]
        },
        {
          "data": {
            "text/plain": [
              "XGBRegressor(alpha=10, base_score=0.5, booster='gbtree', colsample_bylevel=1,\n",
              "             colsample_bynode=1, colsample_bytree=0.3, gamma=0,\n",
              "             importance_type='gain', learning_rate=0.07, max_delta_step=0,\n",
              "             max_depth=5, min_child_weight=1, missing=None, n_estimators=1000,\n",
              "             n_jobs=-1, nthread=None, objective='reg:linear', random_state=0,\n",
              "             reg_alpha=0, reg_lambda=1, scale_pos_weight=1, seed=None,\n",
              "             silent=None, subsample=1, verbosity=1)"
            ]
          },
          "execution_count": 35,
          "metadata": {
            "tags": []
          },
          "output_type": "execute_result"
        }
      ],
      "source": [
        "xgbr.fit(x_test_bis,y_test_bis)"
      ]
    },
    {
      "cell_type": "code",
      "execution_count": null,
      "metadata": {
        "colab": {
          "base_uri": "https://localhost:8080/"
        },
        "id": "RdO8TudvL_SA",
        "outputId": "9dcefaf0-5c1b-4532-dc87-76a15e0e4be2"
      },
      "outputs": [
        {
          "data": {
            "text/plain": [
              "0.8261128110411717"
            ]
          },
          "execution_count": 36,
          "metadata": {
            "tags": []
          },
          "output_type": "execute_result"
        }
      ],
      "source": [
        "xgbr.score(x_test_bis,y_test_bis)"
      ]
    },
    {
      "cell_type": "code",
      "execution_count": null,
      "metadata": {
        "id": "FufCsiWhL214"
      },
      "outputs": [],
      "source": []
    },
    {
      "cell_type": "markdown",
      "metadata": {
        "id": "IopFnO10vmGL"
      },
      "source": [
        "##Clean test data"
      ]
    },
    {
      "cell_type": "code",
      "execution_count": null,
      "metadata": {
        "id": "a4YY-UZLkw3o"
      },
      "outputs": [],
      "source": [
        "#Load sentences from Pandas\n",
        "test_sentences2 = data_test['keywords'].values\n",
        "test_labels2 = data_test['sex'].values"
      ]
    },
    {
      "cell_type": "code",
      "execution_count": null,
      "metadata": {
        "id": "-U13nNFXwBer"
      },
      "outputs": [],
      "source": [
        "data_test['cleaned'] = data_test['keywords']\n",
        "data_test['cleaned'].replace('[!\"#%\\'()*+,-./:;<=>?@\\[\\]^_`{|}~’”“′‘\\\\\\]',' ',inplace=True,regex=True)\n",
        "data_test['cleaned'] = data_test['cleaned'].str.lower()\n",
        "data_test['cleaned'] = data_test['cleaned'].apply(toktok.tokenize)\n",
        "data_test['cleaned'] = data_test['cleaned'].apply(lambda x: [word for word in x if word not in stop])\n",
        "data_test['cleaned'] = data_test['cleaned'].apply(lambda x: \" \".join(x))"
      ]
    },
    {
      "cell_type": "code",
      "execution_count": null,
      "metadata": {
        "id": "tgT1VoHAlHWm"
      },
      "outputs": [],
      "source": [
        "#Load Sentences from pandas\n",
        "test_sentences2 = data_test['cleaned'].values\n",
        "test_labels2 = data_test['sex'].values"
      ]
    },
    {
      "cell_type": "code",
      "execution_count": null,
      "metadata": {
        "id": "OFTWskVrlUCk"
      },
      "outputs": [],
      "source": [
        "tokenizer = Tokenizer(num_words=vocab_size)\n",
        "x_test2 = tokenizer.texts_to_sequences(test_sentences2)\n",
        "x_test2 = sequence.pad_sequences(x_test2, maxlen=maxlen)"
      ]
    },
    {
      "cell_type": "code",
      "execution_count": null,
      "metadata": {
        "id": "YTumIPWnlnri"
      },
      "outputs": [],
      "source": [
        "#Encode the Labels\n",
        "encoder = LabelBinarizer()\n",
        "encoder.fit(train_labels)\n",
        "y_test2 = encoder.transform(test_labels2)"
      ]
    },
    {
      "cell_type": "code",
      "execution_count": null,
      "metadata": {
        "id": "Dt0onolamu5Z"
      },
      "outputs": [],
      "source": [
        "prediction = model.predict(np.array(x_test2))\n"
      ]
    },
    {
      "cell_type": "code",
      "execution_count": null,
      "metadata": {
        "colab": {
          "base_uri": "https://localhost:8080/"
        },
        "id": "Ap_v-3CdnpXI",
        "outputId": "a369b0e8-99ac-4000-d1de-5b0c5e606156"
      },
      "outputs": [
        {
          "name": "stdout",
          "output_type": "stream",
          "text": [
            "[[4.1464266e-01 5.8475131e-01 1.9188474e-04 ... 5.0706825e-05\n",
            "  1.0862849e-04 1.7022628e-04]\n",
            " [4.1464266e-01 5.8475131e-01 1.9188474e-04 ... 5.0706825e-05\n",
            "  1.0862849e-04 1.7022628e-04]\n",
            " [4.1464266e-01 5.8475131e-01 1.9188474e-04 ... 5.0706825e-05\n",
            "  1.0862849e-04 1.7022628e-04]\n",
            " ...\n",
            " [4.1464266e-01 5.8475131e-01 1.9188474e-04 ... 5.0706825e-05\n",
            "  1.0862849e-04 1.7022628e-04]\n",
            " [4.1464266e-01 5.8475131e-01 1.9188474e-04 ... 5.0706825e-05\n",
            "  1.0862849e-04 1.7022628e-04]\n",
            " [4.1464245e-01 5.8475155e-01 1.9188464e-04 ... 5.0706800e-05\n",
            "  1.0862843e-04 1.7022603e-04]]\n"
          ]
        }
      ],
      "source": [
        "print(prediction)"
      ]
    },
    {
      "cell_type": "code",
      "execution_count": null,
      "metadata": {
        "id": "LDJprYk-pFbs"
      },
      "outputs": [],
      "source": [
        "text_labels = encoder.classes_\n",
        "\n",
        "Result = []\n",
        "for i in range(len(data_test)):\n",
        "    prediction = model.predict(np.array([x_test2[i]]))\n",
        "    predicted_label = text_labels[np.argmax(prediction[0])]\n",
        "    Result.append(predicted_label)\n",
        "    \n",
        "# Append the list of results to the test dataframe\n",
        "pd.options.mode.chained_assignment = None  # default='warn'\n",
        "data_test['sex_pred'] = Result"
      ]
    },
    {
      "cell_type": "code",
      "execution_count": null,
      "metadata": {
        "colab": {
          "base_uri": "https://localhost:8080/",
          "height": 419
        },
        "id": "ddvFEIOR3Rdc",
        "outputId": "5a7105d6-8374-4b99-97f5-a82ac96782c0"
      },
      "outputs": [
        {
          "data": {
            "text/html": [
              "<div>\n",
              "<style scoped>\n",
              "    .dataframe tbody tr th:only-of-type {\n",
              "        vertical-align: middle;\n",
              "    }\n",
              "\n",
              "    .dataframe tbody tr th {\n",
              "        vertical-align: top;\n",
              "    }\n",
              "\n",
              "    .dataframe thead th {\n",
              "        text-align: right;\n",
              "    }\n",
              "</style>\n",
              "<table border=\"1\" class=\"dataframe\">\n",
              "  <thead>\n",
              "    <tr style=\"text-align: right;\">\n",
              "      <th></th>\n",
              "      <th>ID</th>\n",
              "      <th>keywords</th>\n",
              "      <th>age</th>\n",
              "      <th>sex</th>\n",
              "      <th>cleaned</th>\n",
              "      <th>sex_pred</th>\n",
              "    </tr>\n",
              "  </thead>\n",
              "  <tbody>\n",
              "    <tr>\n",
              "      <th>496475</th>\n",
              "      <td>2903855</td>\n",
              "      <td>charlotte:2;video:2;fille:2;passion:2;cachee:2...</td>\n",
              "      <td>nan</td>\n",
              "      <td>nan</td>\n",
              "      <td>charlotte 2 video 2 fille 2 passion 2 cachee 2...</td>\n",
              "      <td>M</td>\n",
              "    </tr>\n",
              "    <tr>\n",
              "      <th>319156</th>\n",
              "      <td>539344</td>\n",
              "      <td>article:1;indesirables:1;ministre:1;annonce:1;...</td>\n",
              "      <td>nan</td>\n",
              "      <td>nan</td>\n",
              "      <td>article 1 indesirables 1 ministre 1 annonce 1 ...</td>\n",
              "      <td>M</td>\n",
              "    </tr>\n",
              "    <tr>\n",
              "      <th>445520</th>\n",
              "      <td>2835244</td>\n",
              "      <td>demande:1;modele:1;faq:1;lettre:1;temps:1;part...</td>\n",
              "      <td>nan</td>\n",
              "      <td>nan</td>\n",
              "      <td>demande 1 modele 1 faq 1 lettre 1 temps 1 part...</td>\n",
              "      <td>M</td>\n",
              "    </tr>\n",
              "    <tr>\n",
              "      <th>233417</th>\n",
              "      <td>1597502</td>\n",
              "      <td>ville:9;doit:1;travail:2;bayencourt:9;les:1;re...</td>\n",
              "      <td>nan</td>\n",
              "      <td>nan</td>\n",
              "      <td>ville 9 doit 1 travail 2 bayencourt 9 les 1 re...</td>\n",
              "      <td>M</td>\n",
              "    </tr>\n",
              "    <tr>\n",
              "      <th>282135</th>\n",
              "      <td>1381180</td>\n",
              "      <td>nan</td>\n",
              "      <td>nan</td>\n",
              "      <td>nan</td>\n",
              "      <td>nan</td>\n",
              "      <td>M</td>\n",
              "    </tr>\n",
              "    <tr>\n",
              "      <th>...</th>\n",
              "      <td>...</td>\n",
              "      <td>...</td>\n",
              "      <td>...</td>\n",
              "      <td>...</td>\n",
              "      <td>...</td>\n",
              "      <td>...</td>\n",
              "    </tr>\n",
              "    <tr>\n",
              "      <th>89389</th>\n",
              "      <td>1212167</td>\n",
              "      <td>detail_offre:5;emploi:5</td>\n",
              "      <td>nan</td>\n",
              "      <td>nan</td>\n",
              "      <td>detail offre 5 emploi 5</td>\n",
              "      <td>M</td>\n",
              "    </tr>\n",
              "    <tr>\n",
              "      <th>373509</th>\n",
              "      <td>1802826</td>\n",
              "      <td>instagram:33;macron:33;francais:1;dans:1;bundc...</td>\n",
              "      <td>nan</td>\n",
              "      <td>nan</td>\n",
              "      <td>instagram 33 macron 33 francais 1 dans 1 bundc...</td>\n",
              "      <td>M</td>\n",
              "    </tr>\n",
              "    <tr>\n",
              "      <th>314222</th>\n",
              "      <td>2019205</td>\n",
              "      <td>edit:3</td>\n",
              "      <td>nan</td>\n",
              "      <td>nan</td>\n",
              "      <td>edit 3</td>\n",
              "      <td>M</td>\n",
              "    </tr>\n",
              "    <tr>\n",
              "      <th>211702</th>\n",
              "      <td>664824</td>\n",
              "      <td>emploi:3;liste_offres:2;detail_offre:1</td>\n",
              "      <td>nan</td>\n",
              "      <td>nan</td>\n",
              "      <td>emploi 3 liste offres 2 detail offre 1</td>\n",
              "      <td>M</td>\n",
              "    </tr>\n",
              "    <tr>\n",
              "      <th>362409</th>\n",
              "      <td>1418623</td>\n",
              "      <td>bubbles:3;bubble:3;shooter:3;jeu:3</td>\n",
              "      <td>nan</td>\n",
              "      <td>nan</td>\n",
              "      <td>bubbles 3 bubble 3 shooter 3 jeu 3</td>\n",
              "      <td>M</td>\n",
              "    </tr>\n",
              "  </tbody>\n",
              "</table>\n",
              "<p>5000 rows × 6 columns</p>\n",
              "</div>"
            ],
            "text/plain": [
              "             ID  ... sex_pred\n",
              "496475  2903855  ...        M\n",
              "319156   539344  ...        M\n",
              "445520  2835244  ...        M\n",
              "233417  1597502  ...        M\n",
              "282135  1381180  ...        M\n",
              "...         ...  ...      ...\n",
              "89389   1212167  ...        M\n",
              "373509  1802826  ...        M\n",
              "314222  2019205  ...        M\n",
              "211702   664824  ...        M\n",
              "362409  1418623  ...        M\n",
              "\n",
              "[5000 rows x 6 columns]"
            ]
          },
          "execution_count": 45,
          "metadata": {
            "tags": []
          },
          "output_type": "execute_result"
        }
      ],
      "source": [
        "data_test"
      ]
    },
    {
      "cell_type": "code",
      "execution_count": null,
      "metadata": {
        "id": "dw6eIwChNh3r"
      },
      "outputs": [],
      "source": [
        "#Load sentences from Pandas\n",
        "test_sentences2_bis = data_test['keywords'].values\n",
        "test_labels2_bis = data_test['age'].values"
      ]
    },
    {
      "cell_type": "code",
      "execution_count": null,
      "metadata": {
        "id": "vv_aD6y2NiHC"
      },
      "outputs": [],
      "source": [
        "#Load Sentences from pandas\n",
        "test_sentences2_bis = data_test['cleaned'].values\n",
        "test_labels2_bis = data_test['age'].values"
      ]
    },
    {
      "cell_type": "code",
      "execution_count": null,
      "metadata": {
        "id": "vAHBFHfiNiQP"
      },
      "outputs": [],
      "source": [
        "tokenizer = Tokenizer(num_words=vocab_size)\n",
        "x_test2_bis = tokenizer.texts_to_sequences(test_sentences2_bis)\n",
        "x_test2_bis = sequence.pad_sequences(x_test2_bis, maxlen=maxlen)"
      ]
    },
    {
      "cell_type": "code",
      "execution_count": null,
      "metadata": {
        "id": "js0Tstg8OTHO"
      },
      "outputs": [],
      "source": [
        "y_test2_bis = test_labels2_bis"
      ]
    },
    {
      "cell_type": "code",
      "execution_count": null,
      "metadata": {
        "colab": {
          "base_uri": "https://localhost:8080/"
        },
        "id": "Tah_dVcWOTSC",
        "outputId": "7fcd10ba-9044-43ba-e760-29c2a1adedde"
      },
      "outputs": [
        {
          "name": "stdout",
          "output_type": "stream",
          "text": [
            "              0          1\n",
            "496475  2903855  40.309944\n",
            "319156   539344  40.309944\n",
            "445520  2835244  40.309944\n",
            "233417  1597502  40.309944\n",
            "282135  1381180  40.309944\n",
            "...         ...        ...\n",
            "89389   1212167  40.309944\n",
            "373509  1802826  40.309944\n",
            "314222  2019205  40.309944\n",
            "211702   664824  40.309944\n",
            "362409  1418623  40.309944\n",
            "\n",
            "[5000 rows x 2 columns]\n"
          ]
        }
      ],
      "source": [
        "xgbr.predict(x_test2_bis)\n",
        "\n",
        "df=pd.DataFrame()\n",
        "df[0]= data_test['ID']\n",
        "df[1]=xgbr.predict(x_test2_bis)\n",
        "print(df)"
      ]
    },
    {
      "cell_type": "code",
      "execution_count": null,
      "metadata": {
        "colab": {
          "base_uri": "https://localhost:8080/"
        },
        "id": "Av9mb--NUWtH",
        "outputId": "b03a3795-f4b1-4776-e166-f10a686be328"
      },
      "outputs": [
        {
          "name": "stdout",
          "output_type": "stream",
          "text": [
            "             ID  ...          1\n",
            "496475  2903855  ...  40.309944\n",
            "319156   539344  ...  40.309944\n",
            "445520  2835244  ...  40.309944\n",
            "233417  1597502  ...  40.309944\n",
            "282135  1381180  ...  40.309944\n",
            "...         ...  ...        ...\n",
            "89389   1212167  ...  40.309944\n",
            "373509  1802826  ...  40.309944\n",
            "314222  2019205  ...  40.309944\n",
            "211702   664824  ...  40.309944\n",
            "362409  1418623  ...  40.309944\n",
            "\n",
            "[5000 rows x 8 columns]\n"
          ]
        }
      ],
      "source": [
        "result_bis = pd.concat([data_test, df], axis=1)\n",
        "print(result_bis)"
      ]
    },
    {
      "cell_type": "code",
      "execution_count": null,
      "metadata": {
        "id": "hCmSJmaDVZ-3"
      },
      "outputs": [],
      "source": [
        "pd.set_option('display.max_columns', None)"
      ]
    },
    {
      "cell_type": "code",
      "execution_count": null,
      "metadata": {
        "id": "gzOAaeASrcpH"
      },
      "outputs": [],
      "source": [
        "result_bis = result_bis.drop(columns=['age', 'sex', 'keywords', 'cleaned'])\n"
      ]
    },
    {
      "cell_type": "code",
      "execution_count": null,
      "metadata": {
        "id": "NPdn3wZPVufb"
      },
      "outputs": [],
      "source": [
        "result_bis.rename(columns = {'1':'age_pred'}, inplace = True)"
      ]
    },
    {
      "cell_type": "code",
      "execution_count": null,
      "metadata": {
        "colab": {
          "base_uri": "https://localhost:8080/",
          "height": 419
        },
        "id": "PU1W7PfpWxyj",
        "outputId": "b68806c2-1491-46c0-ac10-fb91a875b4e3"
      },
      "outputs": [
        {
          "data": {
            "text/html": [
              "<div>\n",
              "<style scoped>\n",
              "    .dataframe tbody tr th:only-of-type {\n",
              "        vertical-align: middle;\n",
              "    }\n",
              "\n",
              "    .dataframe tbody tr th {\n",
              "        vertical-align: top;\n",
              "    }\n",
              "\n",
              "    .dataframe thead th {\n",
              "        text-align: right;\n",
              "    }\n",
              "</style>\n",
              "<table border=\"1\" class=\"dataframe\">\n",
              "  <thead>\n",
              "    <tr style=\"text-align: right;\">\n",
              "      <th></th>\n",
              "      <th>ID</th>\n",
              "      <th>sex_pred</th>\n",
              "      <th>0</th>\n",
              "      <th>1</th>\n",
              "    </tr>\n",
              "  </thead>\n",
              "  <tbody>\n",
              "    <tr>\n",
              "      <th>220573</th>\n",
              "      <td>1114922</td>\n",
              "      <td>M</td>\n",
              "      <td>1114922</td>\n",
              "      <td>51.591843</td>\n",
              "    </tr>\n",
              "    <tr>\n",
              "      <th>373444</th>\n",
              "      <td>598087</td>\n",
              "      <td>M</td>\n",
              "      <td>598087</td>\n",
              "      <td>51.591843</td>\n",
              "    </tr>\n",
              "    <tr>\n",
              "      <th>84880</th>\n",
              "      <td>1196538</td>\n",
              "      <td>M</td>\n",
              "      <td>1196538</td>\n",
              "      <td>51.591843</td>\n",
              "    </tr>\n",
              "    <tr>\n",
              "      <th>117588</th>\n",
              "      <td>398050</td>\n",
              "      <td>M</td>\n",
              "      <td>398050</td>\n",
              "      <td>51.591843</td>\n",
              "    </tr>\n",
              "    <tr>\n",
              "      <th>488709</th>\n",
              "      <td>1778419</td>\n",
              "      <td>M</td>\n",
              "      <td>1778419</td>\n",
              "      <td>51.591843</td>\n",
              "    </tr>\n",
              "    <tr>\n",
              "      <th>...</th>\n",
              "      <td>...</td>\n",
              "      <td>...</td>\n",
              "      <td>...</td>\n",
              "      <td>...</td>\n",
              "    </tr>\n",
              "    <tr>\n",
              "      <th>254361</th>\n",
              "      <td>2225381</td>\n",
              "      <td>M</td>\n",
              "      <td>2225381</td>\n",
              "      <td>51.591843</td>\n",
              "    </tr>\n",
              "    <tr>\n",
              "      <th>27572</th>\n",
              "      <td>2493811</td>\n",
              "      <td>M</td>\n",
              "      <td>2493811</td>\n",
              "      <td>51.591843</td>\n",
              "    </tr>\n",
              "    <tr>\n",
              "      <th>163311</th>\n",
              "      <td>2470731</td>\n",
              "      <td>M</td>\n",
              "      <td>2470731</td>\n",
              "      <td>51.591843</td>\n",
              "    </tr>\n",
              "    <tr>\n",
              "      <th>214033</th>\n",
              "      <td>2154505</td>\n",
              "      <td>M</td>\n",
              "      <td>2154505</td>\n",
              "      <td>51.591843</td>\n",
              "    </tr>\n",
              "    <tr>\n",
              "      <th>19012</th>\n",
              "      <td>252386</td>\n",
              "      <td>M</td>\n",
              "      <td>252386</td>\n",
              "      <td>51.591843</td>\n",
              "    </tr>\n",
              "  </tbody>\n",
              "</table>\n",
              "<p>5000 rows × 4 columns</p>\n",
              "</div>"
            ],
            "text/plain": [
              "             ID sex_pred        0          1\n",
              "220573  1114922        M  1114922  51.591843\n",
              "373444   598087        M   598087  51.591843\n",
              "84880   1196538        M  1196538  51.591843\n",
              "117588   398050        M   398050  51.591843\n",
              "488709  1778419        M  1778419  51.591843\n",
              "...         ...      ...      ...        ...\n",
              "254361  2225381        M  2225381  51.591843\n",
              "27572   2493811        M  2493811  51.591843\n",
              "163311  2470731        M  2470731  51.591843\n",
              "214033  2154505        M  2154505  51.591843\n",
              "19012    252386        M   252386  51.591843\n",
              "\n",
              "[5000 rows x 4 columns]"
            ]
          },
          "execution_count": 69,
          "metadata": {
            "tags": []
          },
          "output_type": "execute_result"
        }
      ],
      "source": [
        "result_bis"
      ]
    },
    {
      "cell_type": "code",
      "execution_count": null,
      "metadata": {
        "id": "VPqNkIDVq_FZ"
      },
      "outputs": [],
      "source": [
        "#Convert data frame into csv\n",
        "final_submission = result_bis.to_csv('final_submission.csv')"
      ]
    }
  ],
  "metadata": {
    "colab": {
      "provenance": [],
      "toc_visible": true
    },
    "kernelspec": {
      "display_name": "Python 3",
      "name": "python3"
    },
    "language_info": {
      "name": "python"
    }
  },
  "nbformat": 4,
  "nbformat_minor": 0
}