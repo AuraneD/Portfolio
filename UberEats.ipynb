{
  "cells": [
    {
      "cell_type": "markdown",
      "metadata": {
        "id": "view-in-github",
        "colab_type": "text"
      },
      "source": [
        "<a href=\"https://colab.research.google.com/github/AuraneD/Portfolio/blob/main/UberEats.ipynb\" target=\"_parent\"><img src=\"https://colab.research.google.com/assets/colab-badge.svg\" alt=\"Open In Colab\"/></a>"
      ]
    },
    {
      "cell_type": "code",
      "execution_count": null,
      "metadata": {
        "id": "yLV--GyyQmpB"
      },
      "outputs": [],
      "source": [
        "#Import libraries"
      ]
    },
    {
      "cell_type": "code",
      "execution_count": null,
      "metadata": {
        "id": "civguWFWQmpD"
      },
      "outputs": [],
      "source": [
        "from __future__ import division\n",
        "from sklearn.metrics import roc_auc_score, accuracy_score, f1_score, precision_score, recall_score, confusion_matrix\n",
        "import matplotlib.pyplot as plt\n",
        "import numpy as np\n",
        "import pandas as pd\n",
        "import seaborn as sns\n",
        "from sklearn import linear_model\n",
        "import statsmodels.api as sm"
      ]
    },
    {
      "cell_type": "code",
      "execution_count": null,
      "metadata": {
        "id": "QA3JRZvqQmpE"
      },
      "outputs": [],
      "source": [
        "#Import two datasets "
      ]
    },
    {
      "cell_type": "code",
      "execution_count": null,
      "metadata": {
        "id": "208jL6XFQmpE",
        "outputId": "7bd99c7c-bb5d-4627-845a-a230aed384db"
      },
      "outputs": [
        {
          "name": "stdout",
          "output_type": "stream",
          "text": [
            "(26636, 13)\n"
          ]
        },
        {
          "data": {
            "text/html": [
              "<div>\n",
              "<style scoped>\n",
              "    .dataframe tbody tr th:only-of-type {\n",
              "        vertical-align: middle;\n",
              "    }\n",
              "\n",
              "    .dataframe tbody tr th {\n",
              "        vertical-align: top;\n",
              "    }\n",
              "\n",
              "    .dataframe thead th {\n",
              "        text-align: right;\n",
              "    }\n",
              "</style>\n",
              "<table border=\"1\" class=\"dataframe\">\n",
              "  <thead>\n",
              "    <tr style=\"text-align: right;\">\n",
              "      <th></th>\n",
              "      <th>restaurant_uuid</th>\n",
              "      <th>week_start</th>\n",
              "      <th>eater_requests</th>\n",
              "      <th>accepted_orders</th>\n",
              "      <th>completed_orders</th>\n",
              "      <th>gross_bookings</th>\n",
              "      <th>available_to_eaters_minutes</th>\n",
              "      <th>courier_to_resto_reviews</th>\n",
              "      <th>courier_to_resto_thumbsup</th>\n",
              "      <th>eater_to_resto_reviews</th>\n",
              "      <th>eater_to_resto_thumbsup</th>\n",
              "      <th>damaged_orders</th>\n",
              "      <th>late_orders</th>\n",
              "    </tr>\n",
              "  </thead>\n",
              "  <tbody>\n",
              "    <tr>\n",
              "      <th>0</th>\n",
              "      <td>00169f75-352a-4813-94bb-8798ac98e81a</td>\n",
              "      <td>2019-03-04</td>\n",
              "      <td>12</td>\n",
              "      <td>12</td>\n",
              "      <td>12</td>\n",
              "      <td>235.84</td>\n",
              "      <td>2520</td>\n",
              "      <td>11</td>\n",
              "      <td>9</td>\n",
              "      <td>1</td>\n",
              "      <td>1</td>\n",
              "      <td>0</td>\n",
              "      <td>1</td>\n",
              "    </tr>\n",
              "    <tr>\n",
              "      <th>1</th>\n",
              "      <td>00169f75-352a-4813-94bb-8798ac98e81a</td>\n",
              "      <td>2019-03-11</td>\n",
              "      <td>9</td>\n",
              "      <td>9</td>\n",
              "      <td>9</td>\n",
              "      <td>147.78</td>\n",
              "      <td>2520</td>\n",
              "      <td>2</td>\n",
              "      <td>2</td>\n",
              "      <td>4</td>\n",
              "      <td>3</td>\n",
              "      <td>0</td>\n",
              "      <td>1</td>\n",
              "    </tr>\n",
              "    <tr>\n",
              "      <th>2</th>\n",
              "      <td>00169f75-352a-4813-94bb-8798ac98e81a</td>\n",
              "      <td>2019-03-18</td>\n",
              "      <td>4</td>\n",
              "      <td>4</td>\n",
              "      <td>4</td>\n",
              "      <td>82.28</td>\n",
              "      <td>2520</td>\n",
              "      <td>3</td>\n",
              "      <td>2</td>\n",
              "      <td>0</td>\n",
              "      <td>0</td>\n",
              "      <td>0</td>\n",
              "      <td>0</td>\n",
              "    </tr>\n",
              "    <tr>\n",
              "      <th>3</th>\n",
              "      <td>00169f75-352a-4813-94bb-8798ac98e81a</td>\n",
              "      <td>2019-03-25</td>\n",
              "      <td>10</td>\n",
              "      <td>10</td>\n",
              "      <td>10</td>\n",
              "      <td>194.25</td>\n",
              "      <td>2520</td>\n",
              "      <td>5</td>\n",
              "      <td>4</td>\n",
              "      <td>3</td>\n",
              "      <td>2</td>\n",
              "      <td>0</td>\n",
              "      <td>1</td>\n",
              "    </tr>\n",
              "    <tr>\n",
              "      <th>4</th>\n",
              "      <td>00169f75-352a-4813-94bb-8798ac98e81a</td>\n",
              "      <td>2019-04-01</td>\n",
              "      <td>9</td>\n",
              "      <td>8</td>\n",
              "      <td>8</td>\n",
              "      <td>161.89</td>\n",
              "      <td>2520</td>\n",
              "      <td>3</td>\n",
              "      <td>2</td>\n",
              "      <td>3</td>\n",
              "      <td>2</td>\n",
              "      <td>0</td>\n",
              "      <td>1</td>\n",
              "    </tr>\n",
              "  </tbody>\n",
              "</table>\n",
              "</div>"
            ],
            "text/plain": [
              "                        restaurant_uuid week_start  eater_requests  \\\n",
              "0  00169f75-352a-4813-94bb-8798ac98e81a 2019-03-04              12   \n",
              "1  00169f75-352a-4813-94bb-8798ac98e81a 2019-03-11               9   \n",
              "2  00169f75-352a-4813-94bb-8798ac98e81a 2019-03-18               4   \n",
              "3  00169f75-352a-4813-94bb-8798ac98e81a 2019-03-25              10   \n",
              "4  00169f75-352a-4813-94bb-8798ac98e81a 2019-04-01               9   \n",
              "\n",
              "   accepted_orders  completed_orders  gross_bookings  \\\n",
              "0               12                12          235.84   \n",
              "1                9                 9          147.78   \n",
              "2                4                 4           82.28   \n",
              "3               10                10          194.25   \n",
              "4                8                 8          161.89   \n",
              "\n",
              "   available_to_eaters_minutes  courier_to_resto_reviews  \\\n",
              "0                         2520                        11   \n",
              "1                         2520                         2   \n",
              "2                         2520                         3   \n",
              "3                         2520                         5   \n",
              "4                         2520                         3   \n",
              "\n",
              "   courier_to_resto_thumbsup  eater_to_resto_reviews  eater_to_resto_thumbsup  \\\n",
              "0                          9                       1                        1   \n",
              "1                          2                       4                        3   \n",
              "2                          2                       0                        0   \n",
              "3                          4                       3                        2   \n",
              "4                          2                       3                        2   \n",
              "\n",
              "   damaged_orders  late_orders  \n",
              "0               0            1  \n",
              "1               0            1  \n",
              "2               0            0  \n",
              "3               0            1  \n",
              "4               0            1  "
            ]
          },
          "execution_count": 4,
          "metadata": {},
          "output_type": "execute_result"
        }
      ],
      "source": [
        "df1 = pd.read_excel('Uber.xlsx', sheet_name=\"weekly_data\")\n",
        "print(df1.shape)\n",
        "df1.head()"
      ]
    },
    {
      "cell_type": "code",
      "execution_count": null,
      "metadata": {
        "id": "q79IGqjXQmpF",
        "outputId": "0343c2d9-c22c-4d7f-888d-ee41fc0e4794"
      },
      "outputs": [
        {
          "name": "stdout",
          "output_type": "stream",
          "text": [
            "(3129, 13)\n"
          ]
        },
        {
          "data": {
            "text/html": [
              "<div>\n",
              "<style scoped>\n",
              "    .dataframe tbody tr th:only-of-type {\n",
              "        vertical-align: middle;\n",
              "    }\n",
              "\n",
              "    .dataframe tbody tr th {\n",
              "        vertical-align: top;\n",
              "    }\n",
              "\n",
              "    .dataframe thead th {\n",
              "        text-align: right;\n",
              "    }\n",
              "</style>\n",
              "<table border=\"1\" class=\"dataframe\">\n",
              "  <thead>\n",
              "    <tr style=\"text-align: right;\">\n",
              "      <th></th>\n",
              "      <th>restaurant_name</th>\n",
              "      <th>restaurant_uuid</th>\n",
              "      <th>territory_name</th>\n",
              "      <th>delivery_area</th>\n",
              "      <th>payment_frequency</th>\n",
              "      <th>preparation_time</th>\n",
              "      <th>status</th>\n",
              "      <th>cuisine_type</th>\n",
              "      <th>menu_hours</th>\n",
              "      <th>tablet_shipped</th>\n",
              "      <th>contract_signature_timestamp</th>\n",
              "      <th>activation_timestamp</th>\n",
              "      <th>first_visible_timestamp</th>\n",
              "    </tr>\n",
              "  </thead>\n",
              "  <tbody>\n",
              "    <tr>\n",
              "      <th>0</th>\n",
              "      <td>Charming Fig Bistro</td>\n",
              "      <td>00169f75-352a-4813-94bb-8798ac98e81a</td>\n",
              "      <td>Paris</td>\n",
              "      <td>19.63</td>\n",
              "      <td>monthly</td>\n",
              "      <td>10</td>\n",
              "      <td>active</td>\n",
              "      <td>Mexican</td>\n",
              "      <td>Mon:16-22;Tue:1-7;Wed:5-11;Thu:18-24;Fri:2-8;S...</td>\n",
              "      <td>True</td>\n",
              "      <td>2018-11-08 00:00:00</td>\n",
              "      <td>2018-11-15 09:24:28.800000</td>\n",
              "      <td>2018-11-17 09:10:04.800000</td>\n",
              "    </tr>\n",
              "    <tr>\n",
              "      <th>1</th>\n",
              "      <td>Wandering Bazaar Cookery</td>\n",
              "      <td>001d9b23-3751-49d3-9fc5-d3e6bf47d5bb</td>\n",
              "      <td>n.a.</td>\n",
              "      <td>n.a.</td>\n",
              "      <td>n.a.</td>\n",
              "      <td>n.a.</td>\n",
              "      <td>onboarding</td>\n",
              "      <td>Middle Eastern</td>\n",
              "      <td>n.a.</td>\n",
              "      <td>False</td>\n",
              "      <td>2019-03-09 00:00:00</td>\n",
              "      <td>n.a.</td>\n",
              "      <td>n.a.</td>\n",
              "    </tr>\n",
              "    <tr>\n",
              "      <th>2</th>\n",
              "      <td>Casa de Via Supper Club</td>\n",
              "      <td>002ce63e-d0c6-4ef3-92ca-23727a295d33</td>\n",
              "      <td>North</td>\n",
              "      <td>38.93</td>\n",
              "      <td>daily</td>\n",
              "      <td>1</td>\n",
              "      <td>active</td>\n",
              "      <td>Italian</td>\n",
              "      <td>Mon:6-17;Tue:1-12;Wed:3-14;Thu:8-19;Fri:6-17;S...</td>\n",
              "      <td>True</td>\n",
              "      <td>2019-03-11 00:00:00</td>\n",
              "      <td>2019-03-17 21:17:16.800000</td>\n",
              "      <td>2019-03-20 21:17:16.800000</td>\n",
              "    </tr>\n",
              "    <tr>\n",
              "      <th>3</th>\n",
              "      <td>Bright Bell Cookery</td>\n",
              "      <td>0031e486-a4fa-4f73-a241-8330ad952335</td>\n",
              "      <td>East</td>\n",
              "      <td>69.99</td>\n",
              "      <td>weekly</td>\n",
              "      <td>2</td>\n",
              "      <td>active</td>\n",
              "      <td>Mexican</td>\n",
              "      <td>Mon:4-17;Tue:11-24;Wed:7-20;Thu:10-23;Fri:6-19...</td>\n",
              "      <td>True</td>\n",
              "      <td>2018-11-18 00:00:00</td>\n",
              "      <td>2018-11-25 22:58:04.800000</td>\n",
              "      <td>2018-11-27 02:48:28.800000</td>\n",
              "    </tr>\n",
              "    <tr>\n",
              "      <th>4</th>\n",
              "      <td>Epic Saucer Farmhouse</td>\n",
              "      <td>003a7493-1d33-4088-95c4-f72b88467cf2</td>\n",
              "      <td>Paris</td>\n",
              "      <td>35.26</td>\n",
              "      <td>monthly</td>\n",
              "      <td>14</td>\n",
              "      <td>active</td>\n",
              "      <td>French</td>\n",
              "      <td>Mon:12-24;Tue:3-15;Wed:12-24;Thu:10-22;Fri:6-1...</td>\n",
              "      <td>True</td>\n",
              "      <td>2018-11-14 00:00:00</td>\n",
              "      <td>2018-11-20 15:25:55.200000</td>\n",
              "      <td>2018-11-22 02:42:43.200000</td>\n",
              "    </tr>\n",
              "  </tbody>\n",
              "</table>\n",
              "</div>"
            ],
            "text/plain": [
              "            restaurant_name                       restaurant_uuid  \\\n",
              "0       Charming Fig Bistro  00169f75-352a-4813-94bb-8798ac98e81a   \n",
              "1  Wandering Bazaar Cookery  001d9b23-3751-49d3-9fc5-d3e6bf47d5bb   \n",
              "2   Casa de Via Supper Club  002ce63e-d0c6-4ef3-92ca-23727a295d33   \n",
              "3       Bright Bell Cookery  0031e486-a4fa-4f73-a241-8330ad952335   \n",
              "4     Epic Saucer Farmhouse  003a7493-1d33-4088-95c4-f72b88467cf2   \n",
              "\n",
              "  territory_name delivery_area payment_frequency preparation_time      status  \\\n",
              "0          Paris         19.63           monthly               10      active   \n",
              "1           n.a.          n.a.              n.a.             n.a.  onboarding   \n",
              "2          North         38.93             daily                1      active   \n",
              "3           East         69.99            weekly                2      active   \n",
              "4          Paris         35.26           monthly               14      active   \n",
              "\n",
              "     cuisine_type                                         menu_hours  \\\n",
              "0         Mexican  Mon:16-22;Tue:1-7;Wed:5-11;Thu:18-24;Fri:2-8;S...   \n",
              "1  Middle Eastern                                               n.a.   \n",
              "2         Italian  Mon:6-17;Tue:1-12;Wed:3-14;Thu:8-19;Fri:6-17;S...   \n",
              "3         Mexican  Mon:4-17;Tue:11-24;Wed:7-20;Thu:10-23;Fri:6-19...   \n",
              "4          French  Mon:12-24;Tue:3-15;Wed:12-24;Thu:10-22;Fri:6-1...   \n",
              "\n",
              "   tablet_shipped contract_signature_timestamp        activation_timestamp  \\\n",
              "0            True          2018-11-08 00:00:00  2018-11-15 09:24:28.800000   \n",
              "1           False          2019-03-09 00:00:00                        n.a.   \n",
              "2            True          2019-03-11 00:00:00  2019-03-17 21:17:16.800000   \n",
              "3            True          2018-11-18 00:00:00  2018-11-25 22:58:04.800000   \n",
              "4            True          2018-11-14 00:00:00  2018-11-20 15:25:55.200000   \n",
              "\n",
              "      first_visible_timestamp  \n",
              "0  2018-11-17 09:10:04.800000  \n",
              "1                        n.a.  \n",
              "2  2019-03-20 21:17:16.800000  \n",
              "3  2018-11-27 02:48:28.800000  \n",
              "4  2018-11-22 02:42:43.200000  "
            ]
          },
          "execution_count": 5,
          "metadata": {},
          "output_type": "execute_result"
        }
      ],
      "source": [
        "df2 = pd.read_excel('Uber.xlsx', sheet_name=\"restaurant_database\")\n",
        "print(df2.shape)\n",
        "df2.head()"
      ]
    },
    {
      "cell_type": "code",
      "execution_count": null,
      "metadata": {
        "id": "t0qObhGVQmpG"
      },
      "outputs": [],
      "source": [
        "#Exploratory analysis "
      ]
    },
    {
      "cell_type": "code",
      "execution_count": null,
      "metadata": {
        "id": "19_c9VLaQmpG",
        "outputId": "a63efa58-9b95-4ab6-9c6a-a3d3a902e00b"
      },
      "outputs": [
        {
          "data": {
            "text/plain": [
              "restaurant_uuid\n",
              "00169f75-352a-4813-94bb-8798ac98e81a    15\n",
              "0031e486-a4fa-4f73-a241-8330ad952335    15\n",
              "003a7493-1d33-4088-95c4-f72b88467cf2    15\n",
              "007e7571-4d1f-4890-88b5-5622db6d104a    15\n",
              "00812649-36fa-4fb5-9505-8ed8b74accd6    15\n",
              "                                        ..\n",
              "ffa85ad0-31c4-4bc4-820d-c96622806734    15\n",
              "ffbcbc77-0d31-4822-b553-35fe3f41c962    15\n",
              "ffe4e09a-9b7f-45aa-9e6e-dfbbc5453564    14\n",
              "ffe6d4de-f011-4937-b2ec-0cb7d8d1ee97    15\n",
              "ffe74fdb-711c-4895-8d56-4b0a7ced4baa    11\n",
              "Length: 1889, dtype: int64"
            ]
          },
          "execution_count": 7,
          "metadata": {},
          "output_type": "execute_result"
        }
      ],
      "source": [
        "## How many different locations?\n",
        "answer1 = df1.groupby(['restaurant_uuid'])\n",
        "answer1.size()"
      ]
    },
    {
      "cell_type": "code",
      "execution_count": null,
      "metadata": {
        "id": "9E-AQeNfQmpH",
        "outputId": "cab0bd86-db33-4ecd-e3b4-40fd92408e74"
      },
      "outputs": [
        {
          "data": {
            "text/html": [
              "<div>\n",
              "<style scoped>\n",
              "    .dataframe tbody tr th:only-of-type {\n",
              "        vertical-align: middle;\n",
              "    }\n",
              "\n",
              "    .dataframe tbody tr th {\n",
              "        vertical-align: top;\n",
              "    }\n",
              "\n",
              "    .dataframe thead th {\n",
              "        text-align: right;\n",
              "    }\n",
              "</style>\n",
              "<table border=\"1\" class=\"dataframe\">\n",
              "  <thead>\n",
              "    <tr style=\"text-align: right;\">\n",
              "      <th></th>\n",
              "      <th>count</th>\n",
              "      <th>percent</th>\n",
              "    </tr>\n",
              "  </thead>\n",
              "  <tbody>\n",
              "    <tr>\n",
              "      <th>gross_bookings</th>\n",
              "      <td>11</td>\n",
              "      <td>0.041297</td>\n",
              "    </tr>\n",
              "  </tbody>\n",
              "</table>\n",
              "</div>"
            ],
            "text/plain": [
              "                count   percent\n",
              "gross_bookings     11  0.041297"
            ]
          },
          "execution_count": 8,
          "metadata": {},
          "output_type": "execute_result"
        }
      ],
      "source": [
        "##Missing data\n",
        "def get_missing(df1):\n",
        "    missing = df1.isnull().sum().sort_values(ascending=False)\n",
        "    missing = missing[missing > 0].to_frame(name='count')\n",
        "    missing['percent'] = (missing['count'] / df1.shape[0])*100\n",
        "    return missing\n",
        "get_missing(df1)"
      ]
    },
    {
      "cell_type": "code",
      "execution_count": null,
      "metadata": {
        "id": "HU_d6E3YQmpH",
        "outputId": "0fee767f-927b-4eb3-cbbb-f29598587d3b"
      },
      "outputs": [
        {
          "data": {
            "text/html": [
              "<div>\n",
              "<style scoped>\n",
              "    .dataframe tbody tr th:only-of-type {\n",
              "        vertical-align: middle;\n",
              "    }\n",
              "\n",
              "    .dataframe tbody tr th {\n",
              "        vertical-align: top;\n",
              "    }\n",
              "\n",
              "    .dataframe thead th {\n",
              "        text-align: right;\n",
              "    }\n",
              "</style>\n",
              "<table border=\"1\" class=\"dataframe\">\n",
              "  <thead>\n",
              "    <tr style=\"text-align: right;\">\n",
              "      <th></th>\n",
              "      <th>count</th>\n",
              "      <th>percent</th>\n",
              "    </tr>\n",
              "  </thead>\n",
              "  <tbody>\n",
              "  </tbody>\n",
              "</table>\n",
              "</div>"
            ],
            "text/plain": [
              "Empty DataFrame\n",
              "Columns: [count, percent]\n",
              "Index: []"
            ]
          },
          "execution_count": 9,
          "metadata": {},
          "output_type": "execute_result"
        }
      ],
      "source": [
        "def get_missing(df2):\n",
        "    missing = df2.isnull().sum().sort_values(ascending=False)\n",
        "    missing = missing[missing > 0].to_frame(name='count')\n",
        "    missing['percent'] = (missing['count'] / df2.shape[0])*100\n",
        "    return missing\n",
        "get_missing(df2)"
      ]
    },
    {
      "cell_type": "code",
      "execution_count": null,
      "metadata": {
        "id": "RF5zqlllQmpH",
        "outputId": "53fea917-e27f-46e9-bc26-a370ce4544a5"
      },
      "outputs": [
        {
          "name": "stdout",
          "output_type": "stream",
          "text": [
            "##################################################\n",
            "restaurant_uuid\n",
            "b2b2e86f-25ff-4f2c-bdaf-8c1799d39c6c    15\n",
            "0c567135-6d22-4331-becb-9c70b3b8564e    15\n",
            "f2767427-3f52-4d06-8208-014f09f1d454    15\n",
            "b0dd44f9-81c6-4aca-90ab-45bbf223bdf4    15\n",
            "1900393c-140c-4565-a007-e93c483ef1b9    15\n",
            "                                        ..\n",
            "661b3cc3-920d-4381-b83a-2bb2bde06eec     6\n",
            "45fdb209-8518-41ee-85a2-f2301104f775     6\n",
            "9913bd69-e6eb-4da0-9bc9-d589195d01e5     6\n",
            "d85bb406-86a0-4602-bf4b-bc2835af59f9     5\n",
            "852a20cf-9916-40ec-bee4-64e984afef62     5\n",
            "Name: restaurant_uuid, Length: 1889, dtype: int64\n",
            "##################################################\n",
            "week_start\n",
            "2019-04-29    1848\n",
            "2019-06-03    1845\n",
            "2019-06-10    1842\n",
            "2019-04-22    1828\n",
            "2019-05-20    1816\n",
            "2019-05-06    1814\n",
            "2019-05-27    1813\n",
            "2019-05-13    1813\n",
            "2019-04-15    1811\n",
            "2019-04-08    1787\n",
            "2019-04-01    1756\n",
            "2019-03-25    1719\n",
            "2019-03-18    1679\n",
            "2019-03-11    1646\n",
            "2019-03-04    1619\n",
            "Name: week_start, dtype: int64\n",
            "##################################################\n",
            "eater_requests\n",
            "12      625\n",
            "11      617\n",
            "10      608\n",
            "13      602\n",
            "14      562\n",
            "       ... \n",
            "584       1\n",
            "648       1\n",
            "680       1\n",
            "712       1\n",
            "1599      1\n",
            "Name: eater_requests, Length: 869, dtype: int64\n",
            "##################################################\n",
            "accepted_orders\n",
            "13      629\n",
            "12      628\n",
            "10      616\n",
            "11      609\n",
            "8       583\n",
            "       ... \n",
            "1222      1\n",
            "1334      1\n",
            "1446      1\n",
            "1478      1\n",
            "1455      1\n",
            "Name: accepted_orders, Length: 851, dtype: int64\n",
            "##################################################\n",
            "completed_orders\n",
            "24      725\n",
            "12      651\n",
            "11      631\n",
            "8       615\n",
            "14      611\n",
            "       ... \n",
            "488       1\n",
            "520       1\n",
            "552       1\n",
            "568       1\n",
            "1335      1\n",
            "Name: completed_orders, Length: 829, dtype: int64\n",
            "##################################################\n",
            "gross_bookings\n",
            "183.70     5\n",
            "141.41     4\n",
            "95.38      4\n",
            "170.01     4\n",
            "205.45     4\n",
            "          ..\n",
            "208.23     1\n",
            "1518.87    1\n",
            "958.15     1\n",
            "1915.70    1\n",
            "36.00      1\n",
            "Name: gross_bookings, Length: 24791, dtype: int64\n",
            "##################################################\n",
            "available_to_eaters_minutes\n",
            "3150    93\n",
            "2520    92\n",
            "4620    91\n",
            "5040    83\n",
            "4830    82\n",
            "        ..\n",
            "1749     1\n",
            "3812     1\n",
            "7910     1\n",
            "4526     1\n",
            "6203     1\n",
            "Name: available_to_eaters_minutes, Length: 2673, dtype: int64\n",
            "##################################################\n",
            "courier_to_resto_reviews\n",
            "0       1297\n",
            "1       1261\n",
            "2       1225\n",
            "3       1182\n",
            "4       1175\n",
            "        ... \n",
            "390        1\n",
            "358        1\n",
            "877        1\n",
            "941        1\n",
            "1103       1\n",
            "Name: courier_to_resto_reviews, Length: 584, dtype: int64\n",
            "##################################################\n",
            "courier_to_resto_thumbsup\n",
            "1       1797\n",
            "2       1580\n",
            "3       1488\n",
            "4       1370\n",
            "0       1297\n",
            "        ... \n",
            "951        1\n",
            "919        1\n",
            "711        1\n",
            "663        1\n",
            "1111       1\n",
            "Name: courier_to_resto_thumbsup, Length: 483, dtype: int64\n",
            "##################################################\n",
            "eater_to_resto_reviews\n",
            "1       1264\n",
            "0       1228\n",
            "2       1221\n",
            "3       1220\n",
            "4       1114\n",
            "        ... \n",
            "1063       1\n",
            "1159       1\n",
            "1303       1\n",
            "1231       1\n",
            "1391       1\n",
            "Name: eater_to_resto_reviews, Length: 593, dtype: int64\n",
            "##################################################\n",
            "eater_to_resto_thumbsup\n",
            "1      1785\n",
            "2      1619\n",
            "3      1440\n",
            "4      1380\n",
            "5      1242\n",
            "       ... \n",
            "470       1\n",
            "374       1\n",
            "310       1\n",
            "350       1\n",
            "863       1\n",
            "Name: eater_to_resto_thumbsup, Length: 510, dtype: int64\n",
            "##################################################\n",
            "damaged_orders\n",
            "0     11634\n",
            "1      7601\n",
            "2      2639\n",
            "3      1411\n",
            "4       849\n",
            "      ...  \n",
            "50        1\n",
            "47        1\n",
            "82        1\n",
            "70        1\n",
            "63        1\n",
            "Name: damaged_orders, Length: 70, dtype: int64\n",
            "##################################################\n",
            "late_orders\n",
            "1      7923\n",
            "0      6606\n",
            "2      3571\n",
            "3      1948\n",
            "4      1412\n",
            "       ... \n",
            "109       1\n",
            "117       1\n",
            "85        1\n",
            "99        1\n",
            "101       1\n",
            "Name: late_orders, Length: 112, dtype: int64\n"
          ]
        }
      ],
      "source": [
        "for col in df1.columns:\n",
        "  print(\"#\"*50)\n",
        "  print(col)\n",
        "  print(df1[col].value_counts())"
      ]
    },
    {
      "cell_type": "code",
      "execution_count": null,
      "metadata": {
        "id": "3DqYpRE2QmpI",
        "outputId": "0d88b980-4582-41a6-cded-0fc836be0367"
      },
      "outputs": [
        {
          "data": {
            "text/html": [
              "<div>\n",
              "<style scoped>\n",
              "    .dataframe tbody tr th:only-of-type {\n",
              "        vertical-align: middle;\n",
              "    }\n",
              "\n",
              "    .dataframe tbody tr th {\n",
              "        vertical-align: top;\n",
              "    }\n",
              "\n",
              "    .dataframe thead th {\n",
              "        text-align: right;\n",
              "    }\n",
              "</style>\n",
              "<table border=\"1\" class=\"dataframe\">\n",
              "  <thead>\n",
              "    <tr style=\"text-align: right;\">\n",
              "      <th></th>\n",
              "      <th>restaurant_uuid</th>\n",
              "      <th>week_start</th>\n",
              "      <th>eater_requests</th>\n",
              "      <th>accepted_orders</th>\n",
              "      <th>completed_orders</th>\n",
              "      <th>gross_bookings</th>\n",
              "      <th>available_to_eaters_minutes</th>\n",
              "      <th>courier_to_resto_reviews</th>\n",
              "      <th>courier_to_resto_thumbsup</th>\n",
              "      <th>eater_to_resto_reviews</th>\n",
              "      <th>eater_to_resto_thumbsup</th>\n",
              "      <th>damaged_orders</th>\n",
              "      <th>late_orders</th>\n",
              "    </tr>\n",
              "  </thead>\n",
              "  <tbody>\n",
              "    <tr>\n",
              "      <th>0</th>\n",
              "      <td>00169f75-352a-4813-94bb-8798ac98e81a</td>\n",
              "      <td>2019-03-04</td>\n",
              "      <td>12</td>\n",
              "      <td>12</td>\n",
              "      <td>12</td>\n",
              "      <td>235.84</td>\n",
              "      <td>2520</td>\n",
              "      <td>11</td>\n",
              "      <td>9</td>\n",
              "      <td>1</td>\n",
              "      <td>1</td>\n",
              "      <td>0</td>\n",
              "      <td>1</td>\n",
              "    </tr>\n",
              "    <tr>\n",
              "      <th>1</th>\n",
              "      <td>00169f75-352a-4813-94bb-8798ac98e81a</td>\n",
              "      <td>2019-03-11</td>\n",
              "      <td>9</td>\n",
              "      <td>9</td>\n",
              "      <td>9</td>\n",
              "      <td>147.78</td>\n",
              "      <td>2520</td>\n",
              "      <td>2</td>\n",
              "      <td>2</td>\n",
              "      <td>4</td>\n",
              "      <td>3</td>\n",
              "      <td>0</td>\n",
              "      <td>1</td>\n",
              "    </tr>\n",
              "    <tr>\n",
              "      <th>2</th>\n",
              "      <td>00169f75-352a-4813-94bb-8798ac98e81a</td>\n",
              "      <td>2019-03-18</td>\n",
              "      <td>4</td>\n",
              "      <td>4</td>\n",
              "      <td>4</td>\n",
              "      <td>82.28</td>\n",
              "      <td>2520</td>\n",
              "      <td>3</td>\n",
              "      <td>2</td>\n",
              "      <td>0</td>\n",
              "      <td>0</td>\n",
              "      <td>0</td>\n",
              "      <td>0</td>\n",
              "    </tr>\n",
              "    <tr>\n",
              "      <th>3</th>\n",
              "      <td>00169f75-352a-4813-94bb-8798ac98e81a</td>\n",
              "      <td>2019-03-25</td>\n",
              "      <td>10</td>\n",
              "      <td>10</td>\n",
              "      <td>10</td>\n",
              "      <td>194.25</td>\n",
              "      <td>2520</td>\n",
              "      <td>5</td>\n",
              "      <td>4</td>\n",
              "      <td>3</td>\n",
              "      <td>2</td>\n",
              "      <td>0</td>\n",
              "      <td>1</td>\n",
              "    </tr>\n",
              "    <tr>\n",
              "      <th>4</th>\n",
              "      <td>00169f75-352a-4813-94bb-8798ac98e81a</td>\n",
              "      <td>2019-04-01</td>\n",
              "      <td>9</td>\n",
              "      <td>8</td>\n",
              "      <td>8</td>\n",
              "      <td>161.89</td>\n",
              "      <td>2520</td>\n",
              "      <td>3</td>\n",
              "      <td>2</td>\n",
              "      <td>3</td>\n",
              "      <td>2</td>\n",
              "      <td>0</td>\n",
              "      <td>1</td>\n",
              "    </tr>\n",
              "    <tr>\n",
              "      <th>...</th>\n",
              "      <td>...</td>\n",
              "      <td>...</td>\n",
              "      <td>...</td>\n",
              "      <td>...</td>\n",
              "      <td>...</td>\n",
              "      <td>...</td>\n",
              "      <td>...</td>\n",
              "      <td>...</td>\n",
              "      <td>...</td>\n",
              "      <td>...</td>\n",
              "      <td>...</td>\n",
              "      <td>...</td>\n",
              "      <td>...</td>\n",
              "    </tr>\n",
              "    <tr>\n",
              "      <th>26631</th>\n",
              "      <td>ffe74fdb-711c-4895-8d56-4b0a7ced4baa</td>\n",
              "      <td>2019-05-13</td>\n",
              "      <td>59</td>\n",
              "      <td>59</td>\n",
              "      <td>57</td>\n",
              "      <td>865.65</td>\n",
              "      <td>4680</td>\n",
              "      <td>16</td>\n",
              "      <td>12</td>\n",
              "      <td>52</td>\n",
              "      <td>39</td>\n",
              "      <td>2</td>\n",
              "      <td>3</td>\n",
              "    </tr>\n",
              "    <tr>\n",
              "      <th>26632</th>\n",
              "      <td>ffe74fdb-711c-4895-8d56-4b0a7ced4baa</td>\n",
              "      <td>2019-05-20</td>\n",
              "      <td>91</td>\n",
              "      <td>88</td>\n",
              "      <td>85</td>\n",
              "      <td>1280.02</td>\n",
              "      <td>4680</td>\n",
              "      <td>81</td>\n",
              "      <td>60</td>\n",
              "      <td>12</td>\n",
              "      <td>9</td>\n",
              "      <td>3</td>\n",
              "      <td>4</td>\n",
              "    </tr>\n",
              "    <tr>\n",
              "      <th>26633</th>\n",
              "      <td>ffe74fdb-711c-4895-8d56-4b0a7ced4baa</td>\n",
              "      <td>2019-05-27</td>\n",
              "      <td>97</td>\n",
              "      <td>97</td>\n",
              "      <td>92</td>\n",
              "      <td>1521.29</td>\n",
              "      <td>4725</td>\n",
              "      <td>72</td>\n",
              "      <td>53</td>\n",
              "      <td>22</td>\n",
              "      <td>17</td>\n",
              "      <td>3</td>\n",
              "      <td>5</td>\n",
              "    </tr>\n",
              "    <tr>\n",
              "      <th>26634</th>\n",
              "      <td>ffe74fdb-711c-4895-8d56-4b0a7ced4baa</td>\n",
              "      <td>2019-06-03</td>\n",
              "      <td>118</td>\n",
              "      <td>118</td>\n",
              "      <td>113</td>\n",
              "      <td>1810.82</td>\n",
              "      <td>4740</td>\n",
              "      <td>0</td>\n",
              "      <td>0</td>\n",
              "      <td>24</td>\n",
              "      <td>18</td>\n",
              "      <td>4</td>\n",
              "      <td>6</td>\n",
              "    </tr>\n",
              "    <tr>\n",
              "      <th>26635</th>\n",
              "      <td>ffe74fdb-711c-4895-8d56-4b0a7ced4baa</td>\n",
              "      <td>2019-06-10</td>\n",
              "      <td>80</td>\n",
              "      <td>79</td>\n",
              "      <td>76</td>\n",
              "      <td>1207.32</td>\n",
              "      <td>4828</td>\n",
              "      <td>41</td>\n",
              "      <td>31</td>\n",
              "      <td>36</td>\n",
              "      <td>27</td>\n",
              "      <td>3</td>\n",
              "      <td>4</td>\n",
              "    </tr>\n",
              "  </tbody>\n",
              "</table>\n",
              "<p>26636 rows × 13 columns</p>\n",
              "</div>"
            ],
            "text/plain": [
              "                            restaurant_uuid week_start  eater_requests  \\\n",
              "0      00169f75-352a-4813-94bb-8798ac98e81a 2019-03-04              12   \n",
              "1      00169f75-352a-4813-94bb-8798ac98e81a 2019-03-11               9   \n",
              "2      00169f75-352a-4813-94bb-8798ac98e81a 2019-03-18               4   \n",
              "3      00169f75-352a-4813-94bb-8798ac98e81a 2019-03-25              10   \n",
              "4      00169f75-352a-4813-94bb-8798ac98e81a 2019-04-01               9   \n",
              "...                                     ...        ...             ...   \n",
              "26631  ffe74fdb-711c-4895-8d56-4b0a7ced4baa 2019-05-13              59   \n",
              "26632  ffe74fdb-711c-4895-8d56-4b0a7ced4baa 2019-05-20              91   \n",
              "26633  ffe74fdb-711c-4895-8d56-4b0a7ced4baa 2019-05-27              97   \n",
              "26634  ffe74fdb-711c-4895-8d56-4b0a7ced4baa 2019-06-03             118   \n",
              "26635  ffe74fdb-711c-4895-8d56-4b0a7ced4baa 2019-06-10              80   \n",
              "\n",
              "       accepted_orders  completed_orders  gross_bookings  \\\n",
              "0                   12                12          235.84   \n",
              "1                    9                 9          147.78   \n",
              "2                    4                 4           82.28   \n",
              "3                   10                10          194.25   \n",
              "4                    8                 8          161.89   \n",
              "...                ...               ...             ...   \n",
              "26631               59                57          865.65   \n",
              "26632               88                85         1280.02   \n",
              "26633               97                92         1521.29   \n",
              "26634              118               113         1810.82   \n",
              "26635               79                76         1207.32   \n",
              "\n",
              "       available_to_eaters_minutes  courier_to_resto_reviews  \\\n",
              "0                             2520                        11   \n",
              "1                             2520                         2   \n",
              "2                             2520                         3   \n",
              "3                             2520                         5   \n",
              "4                             2520                         3   \n",
              "...                            ...                       ...   \n",
              "26631                         4680                        16   \n",
              "26632                         4680                        81   \n",
              "26633                         4725                        72   \n",
              "26634                         4740                         0   \n",
              "26635                         4828                        41   \n",
              "\n",
              "       courier_to_resto_thumbsup  eater_to_resto_reviews  \\\n",
              "0                              9                       1   \n",
              "1                              2                       4   \n",
              "2                              2                       0   \n",
              "3                              4                       3   \n",
              "4                              2                       3   \n",
              "...                          ...                     ...   \n",
              "26631                         12                      52   \n",
              "26632                         60                      12   \n",
              "26633                         53                      22   \n",
              "26634                          0                      24   \n",
              "26635                         31                      36   \n",
              "\n",
              "       eater_to_resto_thumbsup  damaged_orders  late_orders  \n",
              "0                            1               0            1  \n",
              "1                            3               0            1  \n",
              "2                            0               0            0  \n",
              "3                            2               0            1  \n",
              "4                            2               0            1  \n",
              "...                        ...             ...          ...  \n",
              "26631                       39               2            3  \n",
              "26632                        9               3            4  \n",
              "26633                       17               3            5  \n",
              "26634                       18               4            6  \n",
              "26635                       27               3            4  \n",
              "\n",
              "[26636 rows x 13 columns]"
            ]
          },
          "execution_count": 11,
          "metadata": {},
          "output_type": "execute_result"
        }
      ],
      "source": [
        "df1"
      ]
    },
    {
      "cell_type": "code",
      "execution_count": null,
      "metadata": {
        "id": "vIKS4cTDQmpI",
        "outputId": "0cb8917a-fab3-4a83-9987-5efedb100dff"
      },
      "outputs": [
        {
          "name": "stderr",
          "output_type": "stream",
          "text": [
            "/Users/Aurane/opt/anaconda3/lib/python3.8/site-packages/seaborn/_decorators.py:36: FutureWarning: Pass the following variables as keyword args: x, y. From version 0.12, the only valid positional argument will be `data`, and passing other arguments without an explicit keyword will result in an error or misinterpretation.\n",
            "  warnings.warn(\n"
          ]
        },
        {
          "data": {
            "text/plain": [
              "<AxesSubplot:xlabel='week_start', ylabel='gross_bookings'>"
            ]
          },
          "execution_count": 12,
          "metadata": {},
          "output_type": "execute_result"
        },
        {
          "data": {
            "image/png": "[encoded data removed]",
            "text/plain": [
              "<Figure size 1080x576 with 1 Axes>"
            ]
          },
          "metadata": {
            "needs_background": "light"
          },
          "output_type": "display_data"
        }
      ],
      "source": [
        "plt.figure(figsize=(15,8))\n",
        "sns.boxplot('week_start', 'gross_bookings', data=df1)"
      ]
    },
    {
      "cell_type": "code",
      "execution_count": null,
      "metadata": {
        "id": "8GxbtKvoQmpJ",
        "outputId": "ef6433df-4bc7-4303-def1-855ce048ee7a"
      },
      "outputs": [
        {
          "name": "stderr",
          "output_type": "stream",
          "text": [
            "/Users/Aurane/opt/anaconda3/lib/python3.8/site-packages/seaborn/_decorators.py:36: FutureWarning: Pass the following variables as keyword args: x, y. From version 0.12, the only valid positional argument will be `data`, and passing other arguments without an explicit keyword will result in an error or misinterpretation.\n",
            "  warnings.warn(\n"
          ]
        },
        {
          "data": {
            "text/plain": [
              "<AxesSubplot:xlabel='restaurant_uuid', ylabel='gross_bookings'>"
            ]
          },
          "execution_count": 13,
          "metadata": {},
          "output_type": "execute_result"
        },
        {
          "data": {
            "image/png": "[encoded data removed]",
            "text/plain": [
              "<Figure size 1080x576 with 1 Axes>"
            ]
          },
          "metadata": {
            "needs_background": "light"
          },
          "output_type": "display_data"
        }
      ],
      "source": [
        "plt.figure(figsize=(15,8))\n",
        "sns.boxplot('restaurant_uuid', 'gross_bookings', data=df1)"
      ]
    },
    {
      "cell_type": "code",
      "execution_count": null,
      "metadata": {
        "id": "wxhihJh2QmpJ"
      },
      "outputs": [],
      "source": [
        "df3 = pd.merge(df1,df2,on='restaurant_uuid',how='left')"
      ]
    },
    {
      "cell_type": "code",
      "execution_count": null,
      "metadata": {
        "id": "g0cnhdiBQmpK"
      },
      "outputs": [],
      "source": [
        "#We replace the missing values by the mean\n",
        "df3['gross_bookings'] = df3['gross_bookings'].fillna((df3['gross_bookings'].mean()))"
      ]
    },
    {
      "cell_type": "code",
      "execution_count": null,
      "metadata": {
        "id": "R7MeGs-nQmpK"
      },
      "outputs": [],
      "source": [
        "## Multiple linear regression to understand which variables are important for the gross bookings\n",
        "X = df3[['eater_requests','accepted_orders', 'completed_orders','available_to_eaters_minutes', 'courier_to_resto_reviews', 'eater_to_resto_reviews','damaged_orders','late_orders','preparation_time',]]"
      ]
    },
    {
      "cell_type": "code",
      "execution_count": null,
      "metadata": {
        "id": "8ZnVehN-QmpK"
      },
      "outputs": [],
      "source": [
        "Y = df3['gross_bookings']"
      ]
    },
    {
      "cell_type": "code",
      "execution_count": null,
      "metadata": {
        "id": "ORndTvaaQmpL",
        "outputId": "66972bd6-f257-4293-c45f-b37aa57f1598"
      },
      "outputs": [
        {
          "data": {
            "text/plain": [
              "LinearRegression()"
            ]
          },
          "execution_count": 28,
          "metadata": {},
          "output_type": "execute_result"
        }
      ],
      "source": [
        "regr = linear_model.LinearRegression()\n",
        "regr.fit(X, Y)"
      ]
    },
    {
      "cell_type": "code",
      "execution_count": null,
      "metadata": {
        "id": "PNeECGdRQmpL",
        "outputId": "d052720a-4d75-4f2b-b5d4-bfd4480bae9b"
      },
      "outputs": [
        {
          "name": "stdout",
          "output_type": "stream",
          "text": [
            "Intercept: \n",
            " 239.41569748618826\n",
            "Coefficients: \n",
            " [ 1.77320359  9.70205509  6.35333404 -0.05875328 -0.16537218  0.29022676\n",
            " 13.19405844 -8.29791433 -0.96343359]\n"
          ]
        }
      ],
      "source": [
        "print('Intercept: \\n', regr.intercept_)\n",
        "print('Coefficients: \\n', regr.coef_)"
      ]
    },
    {
      "cell_type": "code",
      "execution_count": null,
      "metadata": {
        "id": "KQ4sICmjQmpM"
      },
      "outputs": [],
      "source": [
        "## Top 3 most important variables for the gross bookings : accepted orders, completed orders and eater requests"
      ]
    },
    {
      "cell_type": "code",
      "execution_count": null,
      "metadata": {
        "id": "_M62FicEQmpM"
      },
      "outputs": [],
      "source": [
        "## Multiple linear regression to understand which variables are important for the delivery partner satisfaction\n",
        "X2 = df3[['eater_requests','accepted_orders', 'completed_orders','available_to_eaters_minutes', 'eater_to_resto_reviews','damaged_orders','late_orders','preparation_time',]]"
      ]
    },
    {
      "cell_type": "code",
      "execution_count": null,
      "metadata": {
        "id": "XWaEV-ArQmpN"
      },
      "outputs": [],
      "source": [
        "Y2 = df3['courier_to_resto_reviews']"
      ]
    },
    {
      "cell_type": "code",
      "execution_count": null,
      "metadata": {
        "id": "1cuAvW-oQmpN",
        "outputId": "5137c746-a8c1-41a5-dced-7dbc6e7b32c2"
      },
      "outputs": [
        {
          "data": {
            "text/plain": [
              "LinearRegression()"
            ]
          },
          "execution_count": 34,
          "metadata": {},
          "output_type": "execute_result"
        }
      ],
      "source": [
        "regr = linear_model.LinearRegression()\n",
        "regr.fit(X2, Y2)"
      ]
    },
    {
      "cell_type": "code",
      "execution_count": null,
      "metadata": {
        "id": "IGXPUELkQmpO",
        "outputId": "ab51487c-900d-41f5-c142-885099ded569"
      },
      "outputs": [
        {
          "name": "stdout",
          "output_type": "stream",
          "text": [
            "Intercept: \n",
            " -1.1080090314425917\n",
            "Coefficients: \n",
            " [ 4.95967106e-01  3.61025592e-01 -3.62823308e-01  2.27263463e-04\n",
            "  1.58670678e-02 -8.94640369e-01 -1.94198856e-01  5.27498045e-03]\n"
          ]
        }
      ],
      "source": [
        "print('Intercept: \\n', regr.intercept_)\n",
        "print('Coefficients: \\n', regr.coef_)"
      ]
    },
    {
      "cell_type": "code",
      "execution_count": null,
      "metadata": {
        "id": "1HQzytZRQmpO"
      },
      "outputs": [],
      "source": [
        "## Top 3 most important variables for the delivery partner satisfaction : preparation time, eater requests \n",
        "## and accepted orders"
      ]
    },
    {
      "cell_type": "code",
      "execution_count": null,
      "metadata": {
        "id": "Rx5VclHSQmpO"
      },
      "outputs": [],
      "source": [
        "## Multiple linear regression to understand which variables are important for the customer\n",
        "X3 = df3[['eater_requests','accepted_orders', 'gross_bookings','completed_orders','available_to_eaters_minutes', 'courier_to_resto_reviews','eater_to_resto_reviews','damaged_orders','late_orders','preparation_time',]]"
      ]
    },
    {
      "cell_type": "code",
      "execution_count": null,
      "metadata": {
        "id": "3E5ITTA_QmpP"
      },
      "outputs": [],
      "source": [
        "Y3 = df3['eater_to_resto_reviews']"
      ]
    },
    {
      "cell_type": "code",
      "execution_count": null,
      "metadata": {
        "id": "jHgpBbSPQmpP",
        "outputId": "d353de02-064f-41c8-d064-f7f9f884646e"
      },
      "outputs": [
        {
          "data": {
            "text/plain": [
              "LinearRegression()"
            ]
          },
          "execution_count": 43,
          "metadata": {},
          "output_type": "execute_result"
        }
      ],
      "source": [
        "regr = linear_model.LinearRegression()\n",
        "regr.fit(X3, Y3)"
      ]
    },
    {
      "cell_type": "code",
      "execution_count": null,
      "metadata": {
        "id": "q083e00CQmpP",
        "outputId": "8f948b22-ec5f-4b28-892b-a47c1e198df3"
      },
      "outputs": [
        {
          "name": "stdout",
          "output_type": "stream",
          "text": [
            "Intercept: \n",
            " -1.2931877790833823e-12\n",
            "Coefficients: \n",
            " [-8.12156294e-16 -3.63820783e-15 -9.81176226e-17  3.60396564e-15\n",
            "  4.26966061e-16 -1.81822504e-16  1.00000000e+00 -1.54400127e-15\n",
            "  1.63209261e-16  9.57883136e-18]\n"
          ]
        }
      ],
      "source": [
        "print('Intercept: \\n', regr.intercept_)\n",
        "print('Coefficients: \\n', regr.coef_)"
      ]
    },
    {
      "cell_type": "code",
      "execution_count": null,
      "metadata": {
        "id": "QzTUaXFrQmpQ"
      },
      "outputs": [],
      "source": [
        "## Top 3 most important variables for the eater : preparation time, availability of the restaurant \n",
        "## and completed orders"
      ]
    },
    {
      "cell_type": "code",
      "execution_count": null,
      "metadata": {
        "id": "2k9f4eh5QmpQ"
      },
      "outputs": [],
      "source": []
    },
    {
      "cell_type": "code",
      "execution_count": null,
      "metadata": {
        "id": "ijtynsHrQmpQ"
      },
      "outputs": [],
      "source": []
    },
    {
      "cell_type": "code",
      "execution_count": null,
      "metadata": {
        "id": "YbKaaA0hQmpQ"
      },
      "outputs": [],
      "source": []
    }
  ],
  "metadata": {
    "kernelspec": {
      "display_name": "Python 3",
      "language": "python",
      "name": "python3"
    },
    "language_info": {
      "codemirror_mode": {
        "name": "ipython",
        "version": 3
      },
      "file_extension": ".py",
      "mimetype": "text/x-python",
      "name": "python",
      "nbconvert_exporter": "python",
      "pygments_lexer": "ipython3",
      "version": "3.8.5"
    },
    "colab": {
      "provenance": [],
      "include_colab_link": true
    }
  },
  "nbformat": 4,
  "nbformat_minor": 0
}